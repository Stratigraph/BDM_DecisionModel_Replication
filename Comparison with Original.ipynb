{
 "metadata": {
  "name": "",
  "signature": "sha256:28739b8e8560d16e60be5a8fba61d99c7710bbc9d375120d3c6ce6c4dc298c44"
 },
 "nbformat": 3,
 "nbformat_minor": 0,
 "worksheets": [
  {
   "cells": [
    {
     "cell_type": "code",
     "collapsed": false,
     "input": [
      "from __future__ import division\n",
      "import numpy as np\n",
      "\n",
      "import csv\n",
      "\n",
      "import matplotlib.pyplot as plt\n",
      "%matplotlib inline\n",
      "\n",
      "from GroupDecisionModel import Actor, Model"
     ],
     "language": "python",
     "metadata": {},
     "outputs": [],
     "prompt_number": 2
    },
    {
     "cell_type": "markdown",
     "metadata": {},
     "source": [
      "## Setup"
     ]
    },
    {
     "cell_type": "code",
     "collapsed": false,
     "input": [
      "with open(\"ExampleActors.csv\", 'rU') as f:\n",
      "    reader = csv.DictReader(f, )\n",
      "    actors = [actor for actor in reader]\n",
      "\n",
      "for actor in actors:\n",
      "    for key in actor:\n",
      "        try:\n",
      "            actor[key] = float(actor[key])\n",
      "        except:\n",
      "            continue\n",
      "            \n",
      "Actors = []\n",
      "for actor in actors:\n",
      "    new_actor = Actor(actor[\"Actor\"], None, actor[\"Position\"], actor[\"Capability\"], actor[\"Salience\"]/100.0)\n",
      "    Actors.append(new_actor)\n",
      "\n",
      "model = Model(Actors, 10, 4)\n",
      "for actor in model.Actors:\n",
      "    actor.model = model\n",
      "\n",
      "model.T = 1\n",
      "model.Q = 1"
     ],
     "language": "python",
     "metadata": {},
     "outputs": [],
     "prompt_number": 3
    },
    {
     "cell_type": "markdown",
     "metadata": {},
     "source": [
      "## Run the model"
     ]
    },
    {
     "cell_type": "markdown",
     "metadata": {},
     "source": [
      "#### Pass 0"
     ]
    },
    {
     "cell_type": "code",
     "collapsed": false,
     "input": [
      "for actor in model.Actors:\n",
      "    actor.r = 1"
     ],
     "language": "python",
     "metadata": {},
     "outputs": [],
     "prompt_number": 6
    },
    {
     "cell_type": "code",
     "collapsed": false,
     "input": [
      "model.mu = model.vote(False)\n",
      "print model.mu"
     ],
     "language": "python",
     "metadata": {},
     "outputs": [
      {
       "output_type": "stream",
       "stream": "stdout",
       "text": [
        "7.0\n"
       ]
      }
     ],
     "prompt_number": 9
    },
    {
     "cell_type": "code",
     "collapsed": false,
     "input": [
      "model.calculate_basic_utilities()\n",
      "model.calculate_win_probabilities()\n",
      "model.calculate_expected_utilities()\n",
      "model.calculate_r()"
     ],
     "language": "python",
     "metadata": {},
     "outputs": [],
     "prompt_number": 12
    },
    {
     "cell_type": "code",
     "collapsed": false,
     "input": [
      "for actor in model.Actors:\n",
      "    print actor.name, actor.r"
     ],
     "language": "python",
     "metadata": {},
     "outputs": [
      {
       "output_type": "stream",
       "stream": "stdout",
       "text": [
        "Netherlands 1.1271980463\n",
        "Belgium 0.780917839132\n",
        "Luxembourg 0.5\n",
        "Germany 1.1271980463\n",
        "France 1.07789229892\n",
        "Italy 1.07789229892\n",
        "UK 2.0\n",
        "Ireland 0.524782172174\n",
        "Denmark 1.47169654498\n",
        "Greece 1.14047944802\n"
       ]
      }
     ],
     "prompt_number": 15
    },
    {
     "cell_type": "code",
     "collapsed": false,
     "input": [],
     "language": "python",
     "metadata": {},
     "outputs": []
    }
   ],
   "metadata": {}
  }
 ]
}
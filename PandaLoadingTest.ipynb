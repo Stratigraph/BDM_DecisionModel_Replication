{
 "metadata": {
  "name": "",
  "signature": "sha256:b490bdbdd5cfde324fbbc8d1236db1a5659bfa86e048fc17df44006f30d837c9"
 },
 "nbformat": 3,
 "nbformat_minor": 0,
 "worksheets": [
  {
   "cells": [
    {
     "cell_type": "code",
     "collapsed": false,
     "input": [
      "import pandas\n",
      "from GroupDecisionModel import Actor, Model"
     ],
     "language": "python",
     "metadata": {},
     "outputs": [],
     "prompt_number": 1
    },
    {
     "cell_type": "code",
     "collapsed": false,
     "input": [
      "df = pandas.read_csv(\"ExampleActors.csv\")"
     ],
     "language": "python",
     "metadata": {},
     "outputs": [],
     "prompt_number": 2
    },
    {
     "cell_type": "code",
     "collapsed": false,
     "input": [
      "df.Salience /= 100"
     ],
     "language": "python",
     "metadata": {},
     "outputs": [],
     "prompt_number": 4
    },
    {
     "cell_type": "code",
     "collapsed": false,
     "input": [
      "df"
     ],
     "language": "python",
     "metadata": {},
     "outputs": [
      {
       "html": [
        "<div style=\"max-height:1000px;max-width:1500px;overflow:auto;\">\n",
        "<table border=\"1\" class=\"dataframe\">\n",
        "  <thead>\n",
        "    <tr style=\"text-align: right;\">\n",
        "      <th></th>\n",
        "      <th>Actor</th>\n",
        "      <th>Capability</th>\n",
        "      <th>Position</th>\n",
        "      <th>Salience</th>\n",
        "    </tr>\n",
        "  </thead>\n",
        "  <tbody>\n",
        "    <tr>\n",
        "      <th>0</th>\n",
        "      <td> Netherlands</td>\n",
        "      <td> 0.08</td>\n",
        "      <td>  4</td>\n",
        "      <td> 0.8</td>\n",
        "    </tr>\n",
        "    <tr>\n",
        "      <th>1</th>\n",
        "      <td>     Belgium</td>\n",
        "      <td> 0.08</td>\n",
        "      <td>  7</td>\n",
        "      <td> 0.4</td>\n",
        "    </tr>\n",
        "    <tr>\n",
        "      <th>2</th>\n",
        "      <td>  Luxembourg</td>\n",
        "      <td> 0.03</td>\n",
        "      <td>  4</td>\n",
        "      <td> 0.2</td>\n",
        "    </tr>\n",
        "    <tr>\n",
        "      <th>3</th>\n",
        "      <td>     Germany</td>\n",
        "      <td> 0.16</td>\n",
        "      <td>  4</td>\n",
        "      <td> 0.8</td>\n",
        "    </tr>\n",
        "    <tr>\n",
        "      <th>4</th>\n",
        "      <td>      France</td>\n",
        "      <td> 0.16</td>\n",
        "      <td> 10</td>\n",
        "      <td> 0.6</td>\n",
        "    </tr>\n",
        "    <tr>\n",
        "      <th>5</th>\n",
        "      <td>       Italy</td>\n",
        "      <td> 0.16</td>\n",
        "      <td> 10</td>\n",
        "      <td> 0.6</td>\n",
        "    </tr>\n",
        "    <tr>\n",
        "      <th>6</th>\n",
        "      <td>          UK</td>\n",
        "      <td> 0.16</td>\n",
        "      <td> 10</td>\n",
        "      <td> 0.9</td>\n",
        "    </tr>\n",
        "    <tr>\n",
        "      <th>7</th>\n",
        "      <td>     Ireland</td>\n",
        "      <td> 0.05</td>\n",
        "      <td>  7</td>\n",
        "      <td> 0.1</td>\n",
        "    </tr>\n",
        "    <tr>\n",
        "      <th>8</th>\n",
        "      <td>     Denmark</td>\n",
        "      <td> 0.05</td>\n",
        "      <td>  4</td>\n",
        "      <td> 1.0</td>\n",
        "    </tr>\n",
        "    <tr>\n",
        "      <th>9</th>\n",
        "      <td>      Greece</td>\n",
        "      <td> 0.08</td>\n",
        "      <td>  7</td>\n",
        "      <td> 0.7</td>\n",
        "    </tr>\n",
        "  </tbody>\n",
        "</table>\n",
        "<p>10 rows \u00d7 4 columns</p>\n",
        "</div>"
       ],
       "metadata": {},
       "output_type": "pyout",
       "prompt_number": 5,
       "text": [
        "         Actor  Capability  Position  Salience\n",
        "0  Netherlands        0.08         4       0.8\n",
        "1      Belgium        0.08         7       0.4\n",
        "2   Luxembourg        0.03         4       0.2\n",
        "3      Germany        0.16         4       0.8\n",
        "4       France        0.16        10       0.6\n",
        "5        Italy        0.16        10       0.6\n",
        "6           UK        0.16        10       0.9\n",
        "7      Ireland        0.05         7       0.1\n",
        "8      Denmark        0.05         4       1.0\n",
        "9       Greece        0.08         7       0.7\n",
        "\n",
        "[10 rows x 4 columns]"
       ]
      }
     ],
     "prompt_number": 5
    },
    {
     "cell_type": "code",
     "collapsed": false,
     "input": [
      "model = Model.from_dataframe(df, {\"name\": \"Actor\",\n",
      "                                  \"x\": \"Position\",\n",
      "                                  \"c\": \"Capability\",\n",
      "                                  \"s\": \"Salience\"})"
     ],
     "language": "python",
     "metadata": {},
     "outputs": [],
     "prompt_number": 6
    },
    {
     "cell_type": "code",
     "collapsed": false,
     "input": [
      "model.run_model(5)"
     ],
     "language": "python",
     "metadata": {},
     "outputs": [
      {
       "output_type": "stream",
       "stream": "stdout",
       "text": [
        "\tMedian: 7\n",
        "\tMean: 7.38995568685\n",
        "\n",
        "ROUND 1\n",
        "Belgium compromises with France"
       ]
      },
      {
       "output_type": "stream",
       "stream": "stdout",
       "text": [
        "\n",
        "\tNew position: 8.41617750539\n",
        "Luxembourg loses challenge to Belgium\n",
        "\tNew position: 7\n",
        "Ireland loses challenge to Luxembourg\n",
        "\tNew position: 4\n",
        "\n",
        "\tMedian: 8.41617750539\n",
        "\tMean: 7.46132596776\n",
        "\n",
        "ROUND 2\n",
        "Belgium compromises with France"
       ]
      },
      {
       "output_type": "stream",
       "stream": "stdout",
       "text": [
        "\n",
        "\tNew position: 9.61107284336\n",
        "Luxembourg loses challenge to Belgium\n",
        "\tNew position: 8.41617750539\n",
        "Ireland loses challenge to Luxembourg\n",
        "\tNew position: 7\n",
        "\n",
        "\tMedian: 9.61107284336\n",
        "\tMean: 7.55251314035\n",
        "\n",
        "ROUND 3\n",
        "Belgium compromises with France"
       ]
      },
      {
       "output_type": "stream",
       "stream": "stdout",
       "text": [
        "\n",
        "\tNew position: 9.96201805085\n",
        "Luxembourg loses challenge to Belgium\n",
        "\tNew position: 9.61107284336\n",
        "Ireland loses challenge to Luxembourg\n",
        "\tNew position: 8.41617750539\n",
        "\n",
        "\tMedian: 9.96201805085\n",
        "\tMean: 7.59015052026\n",
        "\n",
        "ROUND 4\n",
        "Belgium compromises with Netherlands"
       ]
      },
      {
       "output_type": "stream",
       "stream": "stdout",
       "text": [
        "\n",
        "\tNew position: 4.80153552807\n",
        "Luxembourg loses challenge to Belgium\n",
        "\tNew position: 9.96201805085\n",
        "Ireland loses challenge to Luxembourg\n",
        "\tNew position: 9.61107284336\n",
        "\n",
        "\tMedian: 9.96201805085\n",
        "\tMean: 7.35816338171\n",
        "\n",
        "ROUND 5\n",
        "Belgium compromises with France"
       ]
      },
      {
       "output_type": "stream",
       "stream": "stdout",
       "text": [
        "\n",
        "\tNew position: 5.52534789414\n",
        "Luxembourg loses challenge to Belgium\n",
        "\tNew position: 4.80153552807\n",
        "Ireland loses challenge to Luxembourg\n",
        "\tNew position: 9.96201805085\n",
        "\n",
        "\tMedian: 9.96201805085\n",
        "\tMean: 7.34923254953\n"
       ]
      }
     ],
     "prompt_number": 7
    },
    {
     "cell_type": "code",
     "collapsed": false,
     "input": [],
     "language": "python",
     "metadata": {},
     "outputs": []
    }
   ],
   "metadata": {}
  }
 ]
}
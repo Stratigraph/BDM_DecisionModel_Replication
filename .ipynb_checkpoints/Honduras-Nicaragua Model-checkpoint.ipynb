{
 "metadata": {
  "name": "",
  "signature": "sha256:1cc264e7f1044acdccbd72f2f8ff6e71fcadbb5f9438646ac4140b0cde611692"
 },
 "nbformat": 3,
 "nbformat_minor": 0,
 "worksheets": [
  {
   "cells": [
    {
     "cell_type": "code",
     "collapsed": false,
     "input": [
      "from __future__ import division\n",
      "import numpy as np\n",
      "\n",
      "import csv\n",
      "\n",
      "import matplotlib.pyplot as plt\n",
      "%matplotlib inline"
     ],
     "language": "python",
     "metadata": {},
     "outputs": [],
     "prompt_number": 1
    },
    {
     "cell_type": "code",
     "collapsed": false,
     "input": [
      "from GroupDecisionModel import Actor, Model"
     ],
     "language": "python",
     "metadata": {},
     "outputs": [],
     "prompt_number": 2
    },
    {
     "cell_type": "code",
     "collapsed": false,
     "input": [
      "with open(\"ChinaData.csv\", 'rU') as f:\n",
      "    reader = csv.DictReader(f, )\n",
      "    actors = [actor for actor in reader]\n",
      "\n",
      "for actor in actors:\n",
      "    for key in actor:\n",
      "        try:\n",
      "            actor[key] = float(actor[key])\n",
      "        except:\n",
      "            continue"
     ],
     "language": "python",
     "metadata": {},
     "outputs": [],
     "prompt_number": 3
    },
    {
     "cell_type": "code",
     "collapsed": false,
     "input": [
      "actors[0]"
     ],
     "language": "python",
     "metadata": {},
     "outputs": [
      {
       "metadata": {},
       "output_type": "pyout",
       "prompt_number": 4,
       "text": [
        "{'Position': 25.0,\n",
        " 'Resources': 80.0,\n",
        " 'Salience': 50.0,\n",
        " 'Stakeholder': 'Zeming'}"
       ]
      }
     ],
     "prompt_number": 4
    },
    {
     "cell_type": "code",
     "collapsed": false,
     "input": [
      "# Sum capabilities for normalizing\n",
      "total_capabilities = sum([actor[\"Resources\"] for actor in actors])"
     ],
     "language": "python",
     "metadata": {},
     "outputs": [],
     "prompt_number": 5
    },
    {
     "cell_type": "code",
     "collapsed": false,
     "input": [
      "Actors = []\n",
      "for actor in actors:\n",
      "    new_actor = Actor(actor[\"Stakeholder\"], # Name\n",
      "                      None, # Model object\n",
      "                      actor[\"Position\"]/100.0, # Position\n",
      "                      actor[\"Resources\"]/total_capabilities, # Capabilities\n",
      "                      actor[\"Salience\"]/100.0) # Salience\n",
      "    Actors.append(new_actor)"
     ],
     "language": "python",
     "metadata": {},
     "outputs": [],
     "prompt_number": 15
    },
    {
     "cell_type": "code",
     "collapsed": false,
     "input": [
      "model = Model(Actors, 10, 4)\n",
      "for actor in model.Actors:\n",
      "    actor.model = model\n",
      "\n",
      "model.T = 1"
     ],
     "language": "python",
     "metadata": {},
     "outputs": [],
     "prompt_number": 16
    },
    {
     "cell_type": "code",
     "collapsed": false,
     "input": [
      "model.run_model()"
     ],
     "language": "python",
     "metadata": {},
     "outputs": [
      {
       "output_type": "stream",
       "stream": "stdout",
       "text": [
        "Shanghai capituates to Zoujiahua\n",
        "Zhurongji compromises with Wanli\n",
        "Wanli capituates to Ziannian\n",
        "Cheyun compromises with Ziannian\n",
        "Challdem loses confrontation to Tianjiyun\n",
        "Chspring loses confrontation to Tianjiyun\n",
        "STU/INTEL loses confrontation to Tianjiyun\n",
        "USA loses confrontation to Tianjiyun\n",
        "Japan compromises with Zoujiahua\n",
        "Europe compromises with Zoujiahua\n",
        "Hong Kong loses confrontation to Tianjiyun\n",
        "Guandung compromises with Ziannian\n"
       ]
      }
     ],
     "prompt_number": 17
    },
    {
     "cell_type": "code",
     "collapsed": false,
     "input": [
      "for actor in model.Actors:\n",
      "    print actor.name, actor.x"
     ],
     "language": "python",
     "metadata": {},
     "outputs": [
      {
       "output_type": "stream",
       "stream": "stdout",
       "text": [
        "Zeming 0.25\n",
        "Lipeng 0.15\n",
        "Qiaoshi 0.15\n",
        "Shanghai 0.15\n",
        "Ruihuan 0.3\n",
        "Tianjiyun 0.2\n",
        "Zhurongji 0.256261893645\n",
        "Zoujiahua 0.15\n",
        "Shangkun 0.2\n",
        "Baibing 0.15\n",
        "Wangzhen 0.15\n",
        "Wanli 0.2\n",
        "Ziannian 0.2\n",
        "Cheyun 0.13606705752\n",
        "Boyibo 0.2\n",
        "Pengzhen 0.15\n",
        "Challdem 0.2\n",
        "Chspring 0.2\n",
        "STU/INTEL 0.2\n",
        "USA 0.2\n",
        "Japan 0.23920401119\n",
        "Europe 0.571429025104\n",
        "Hong Kong 0.2\n",
        "Guandung 0.362428068924\n"
       ]
      }
     ],
     "prompt_number": 18
    },
    {
     "cell_type": "code",
     "collapsed": false,
     "input": [],
     "language": "python",
     "metadata": {},
     "outputs": []
    }
   ],
   "metadata": {}
  }
 ]
}
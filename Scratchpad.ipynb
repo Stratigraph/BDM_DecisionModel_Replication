{
 "metadata": {
  "name": "",
  "signature": "sha256:d7ffbbc2f0ff8621bb9a7b93a76e51027b721d373b17b3ab7b79f9c204dfc5a8"
 },
 "nbformat": 3,
 "nbformat_minor": 0,
 "worksheets": [
  {
   "cells": [
    {
     "cell_type": "code",
     "collapsed": false,
     "input": [
      "from __future__ import division\n",
      "import numpy as np\n",
      "\n",
      "import csv"
     ],
     "language": "python",
     "metadata": {},
     "outputs": [],
     "prompt_number": 1
    },
    {
     "cell_type": "code",
     "collapsed": false,
     "input": [
      "from GroupDecisionModel import Actor, Model"
     ],
     "language": "python",
     "metadata": {},
     "outputs": [],
     "prompt_number": 2
    },
    {
     "cell_type": "markdown",
     "metadata": {},
     "source": [
      "## Loading sample data"
     ]
    },
    {
     "cell_type": "code",
     "collapsed": false,
     "input": [
      "with open(\"ExampleActors.csv\", 'rU') as f:\n",
      "    reader = csv.DictReader(f, )\n",
      "    actors = [actor for actor in reader]\n",
      "\n",
      "for actor in actors:\n",
      "    for key in actor:\n",
      "        try:\n",
      "            actor[key] = float(actor[key])\n",
      "        except:\n",
      "            continue"
     ],
     "language": "python",
     "metadata": {},
     "outputs": [],
     "prompt_number": 3
    },
    {
     "cell_type": "code",
     "collapsed": false,
     "input": [
      "Actors = []\n",
      "for actor in actors:\n",
      "    new_actor = Actor(actor[\"Actor\"], None, actor[\"Position\"], actor[\"Capability\"], actor[\"Salience\"])\n",
      "    Actors.append(new_actor)"
     ],
     "language": "python",
     "metadata": {},
     "outputs": [],
     "prompt_number": 4
    },
    {
     "cell_type": "code",
     "collapsed": false,
     "input": [
      "model = Model(Actors, 10, 4)"
     ],
     "language": "python",
     "metadata": {},
     "outputs": [],
     "prompt_number": 5
    },
    {
     "cell_type": "markdown",
     "metadata": {},
     "source": [
      "## 3. Calculate Pairwise Voting\n",
      "\n",
      "$$v^{jk} = \\sum^{n}_{i=1}|x_i-x_k| - |x_i-x_j|$$"
     ]
    },
    {
     "cell_type": "code",
     "collapsed": false,
     "input": [
      "model.vote()"
     ],
     "language": "python",
     "metadata": {},
     "outputs": [
      {
       "output_type": "stream",
       "stream": "stdout",
       "text": [
        "(4.0, 10.0) -8.8\n",
        "(4.0, 7.0) -9.05\n",
        "(10.0, 4.0) 8.8\n",
        "(10.0, 10.0) 0.0\n",
        "(10.0, 7.0) -0.25\n",
        "(4.0, 4.0) 0.0\n",
        "(7.0, 7.0) 0.0\n",
        "(7.0, 4.0) 9.05\n",
        "(7.0, 10.0) 0.25\n"
       ]
      },
      {
       "metadata": {},
       "output_type": "pyout",
       "prompt_number": 6,
       "text": [
        "7.0"
       ]
      }
     ],
     "prompt_number": 6
    },
    {
     "cell_type": "code",
     "collapsed": false,
     "input": [
      "model.mu = model.find_mean()"
     ],
     "language": "python",
     "metadata": {},
     "outputs": [],
     "prompt_number": 7
    },
    {
     "cell_type": "code",
     "collapsed": false,
     "input": [
      "print model.mu"
     ],
     "language": "python",
     "metadata": {},
     "outputs": [
      {
       "output_type": "stream",
       "stream": "stdout",
       "text": [
        "7.38995568685\n"
       ]
      }
     ],
     "prompt_number": 8
    },
    {
     "cell_type": "markdown",
     "metadata": {},
     "source": [
      "## 4. Calculate basic utilities"
     ]
    },
    {
     "cell_type": "code",
     "collapsed": false,
     "input": [
      "for actor in Actors:\n",
      "    actor.model = model"
     ],
     "language": "python",
     "metadata": {},
     "outputs": [],
     "prompt_number": 9
    },
    {
     "cell_type": "code",
     "collapsed": false,
     "input": [
      "for actor in Actors:\n",
      "    for alter in Actors:\n",
      "        if actor is not alter:\n",
      "            actor.calculate_utilities(alter)"
     ],
     "language": "python",
     "metadata": {},
     "outputs": [],
     "prompt_number": 10
    },
    {
     "cell_type": "code",
     "collapsed": false,
     "input": [
      "a1 = Actors[0]\n",
      "a2 = Actors[1]"
     ],
     "language": "python",
     "metadata": {},
     "outputs": [],
     "prompt_number": 11
    },
    {
     "cell_type": "code",
     "collapsed": false,
     "input": [
      "a1.basic_utilities"
     ],
     "language": "python",
     "metadata": {},
     "outputs": [
      {
       "metadata": {},
       "output_type": "pyout",
       "prompt_number": 12,
       "text": [
        "{'Belgium': {'Ub': 0.5649926144756279,\n",
        "  'Uf': -1.0,\n",
        "  'Us': 1.0,\n",
        "  'Usq': 0.0,\n",
        "  'Uw': -0.5649926144756279},\n",
        " 'Denmark': {'Ub': 0.5649926144756279,\n",
        "  'Uf': -1.0,\n",
        "  'Us': 1.0,\n",
        "  'Usq': 0.0,\n",
        "  'Uw': -0.5649926144756279},\n",
        " 'France': {'Ub': 0.5649926144756279,\n",
        "  'Uf': -1.0,\n",
        "  'Us': 1.0,\n",
        "  'Usq': 0.0,\n",
        "  'Uw': -0.5649926144756279},\n",
        " 'Germany': {'Ub': 0.5649926144756279,\n",
        "  'Uf': -1.0,\n",
        "  'Us': 1.0,\n",
        "  'Usq': 0.0,\n",
        "  'Uw': -0.5649926144756279},\n",
        " 'Greece': {'Ub': 0.06499261447562765,\n",
        "  'Uf': 0.0,\n",
        "  'Us': 0.0,\n",
        "  'Usq': 0.0,\n",
        "  'Uw': -0.06499261447562787},\n",
        " 'Ireland': {'Ub': 0.06499261447562765,\n",
        "  'Uf': 0.0,\n",
        "  'Us': 0.0,\n",
        "  'Usq': 0.0,\n",
        "  'Uw': -0.06499261447562787},\n",
        " 'Italy': {'Ub': 0.5649926144756279,\n",
        "  'Uf': -1.0,\n",
        "  'Us': 1.0,\n",
        "  'Usq': 0.0,\n",
        "  'Uw': -0.5649926144756279},\n",
        " 'Luxembourg': {'Ub': 0.5649926144756279,\n",
        "  'Uf': -1.0,\n",
        "  'Us': 1.0,\n",
        "  'Usq': 0.0,\n",
        "  'Uw': -0.5649926144756279},\n",
        " 'UK': {'Ub': 0.5649926144756279,\n",
        "  'Uf': -1.0,\n",
        "  'Us': 1.0,\n",
        "  'Usq': 0.0,\n",
        "  'Uw': -0.5649926144756279}}"
       ]
      }
     ],
     "prompt_number": 12
    },
    {
     "cell_type": "markdown",
     "metadata": {},
     "source": [
      "## 5. Calculate win probabilities"
     ]
    },
    {
     "cell_type": "code",
     "collapsed": false,
     "input": [
      "for actor in Actors:\n",
      "    for alter in Actors:\n",
      "        if actor is not alter:\n",
      "            actor.calculate_prob(alter)"
     ],
     "language": "python",
     "metadata": {},
     "outputs": [],
     "prompt_number": 13
    },
    {
     "cell_type": "code",
     "collapsed": false,
     "input": [
      "a1.probs"
     ],
     "language": "python",
     "metadata": {},
     "outputs": [
      {
       "metadata": {},
       "output_type": "pyout",
       "prompt_number": 14,
       "text": [
        "{'Belgium': 0.6336779911373707,\n",
        " 'Denmark': 0.6336779911373707,\n",
        " 'France': 0.5036927621861153,\n",
        " 'Germany': 0.6336779911373707,\n",
        " 'Greece': 0,\n",
        " 'Ireland': 0,\n",
        " 'Italy': 0.5036927621861153,\n",
        " 'Luxembourg': 0.6336779911373707,\n",
        " 'UK': 0.5036927621861153}"
       ]
      }
     ],
     "prompt_number": 14
    },
    {
     "cell_type": "markdown",
     "metadata": {},
     "source": [
      "## 7. Calculate Expected Utilities"
     ]
    },
    {
     "cell_type": "code",
     "collapsed": false,
     "input": [
      "model.T = 0.5"
     ],
     "language": "python",
     "metadata": {},
     "outputs": [],
     "prompt_number": 15
    },
    {
     "cell_type": "code",
     "collapsed": false,
     "input": [
      "for actor in Actors:\n",
      "    for alter in Actors:\n",
      "        if actor is not alter:\n",
      "            actor.calculate_expected_utility(alter)"
     ],
     "language": "python",
     "metadata": {},
     "outputs": [],
     "prompt_number": 16
    },
    {
     "cell_type": "code",
     "collapsed": false,
     "input": [
      "a1.expected_utilities"
     ],
     "language": "python",
     "metadata": {},
     "outputs": [
      {
       "metadata": {},
       "output_type": "pyout",
       "prompt_number": 17,
       "text": [
        "{'Belgium': -57.61152141802069,\n",
        " 'Denmark': -72.26440177252587,\n",
        " 'France': -58.55686853766617,\n",
        " 'Germany': -57.61152141802069,\n",
        " 'Greece': 0.0,\n",
        " 'Ireland': 0.0,\n",
        " 'Italy': -58.55686853766617,\n",
        " 'Luxembourg': -13.652880354505173,\n",
        " 'UK': -88.33530280649926}"
       ]
      }
     ],
     "prompt_number": 17
    },
    {
     "cell_type": "markdown",
     "metadata": {},
     "source": [
      "## 8.9. Calculate R and r"
     ]
    },
    {
     "cell_type": "code",
     "collapsed": false,
     "input": [
      "for actor in Actors:\n",
      "    actor.calculate_r()"
     ],
     "language": "python",
     "metadata": {},
     "outputs": [],
     "prompt_number": 18
    },
    {
     "cell_type": "code",
     "collapsed": false,
     "input": [
      "[actor.r for actor in Actors]"
     ],
     "language": "python",
     "metadata": {},
     "outputs": [
      {
       "metadata": {},
       "output_type": "pyout",
       "prompt_number": 19,
       "text": [
        "[0.7045142764483074,\n",
        " 0.9931673254149582,\n",
        " 0.5481791061489397,\n",
        " 0.9931673254149582,\n",
        " 1.2037523471565288,\n",
        " 1.2037523471565288,\n",
        " 1.9999999999999998,\n",
        " 0.5000000000000001,\n",
        " 1.2043652321160914,\n",
        " 0.9736006103277145]"
       ]
      }
     ],
     "prompt_number": 19
    },
    {
     "cell_type": "markdown",
     "metadata": {},
     "source": [
      "##10. Going back and recalculating new utilities"
     ]
    },
    {
     "cell_type": "code",
     "collapsed": false,
     "input": [
      "for actor in Actors:\n",
      "    for alter in Actors:\n",
      "        if actor is not alter:\n",
      "            actor.calculate_utilities(alter)"
     ],
     "language": "python",
     "metadata": {},
     "outputs": [],
     "prompt_number": 20
    },
    {
     "cell_type": "code",
     "collapsed": false,
     "input": [
      "a1.basic_utilities"
     ],
     "language": "python",
     "metadata": {},
     "outputs": [
      {
       "metadata": {},
       "output_type": "pyout",
       "prompt_number": 21,
       "text": [
        "{'Belgium': {'Ub': 0.05729834359781294,\n",
        "  'Uf': -1.2661706185037662,\n",
        "  'Us': 0.4937393446077507,\n",
        "  'Usq': -0.45459622373395625,\n",
        "  'Uw': -0.9248738741885321},\n",
        " 'Denmark': {'Ub': 0.05729834359781294,\n",
        "  'Uf': -1.2661706185037662,\n",
        "  'Us': 0.4937393446077507,\n",
        "  'Usq': -0.45459622373395625,\n",
        "  'Uw': -0.9248738741885321},\n",
        " 'France': {'Ub': 0.05729834359781294,\n",
        "  'Uf': -1.2661706185037662,\n",
        "  'Us': 0.4937393446077507,\n",
        "  'Usq': -0.45459622373395625,\n",
        "  'Uw': -0.9248738741885321},\n",
        " 'Germany': {'Ub': 0.05729834359781294,\n",
        "  'Uf': -1.2661706185037662,\n",
        "  'Us': 0.4937393446077507,\n",
        "  'Usq': -0.45459622373395625,\n",
        "  'Uw': -0.9248738741885321},\n",
        " 'Greece': {'Ub': -0.3981267621848539,\n",
        "  'Uf': -0.45459622373395625,\n",
        "  'Us': -0.45459622373395625,\n",
        "  'Usq': -0.45459622373395625,\n",
        "  'Uw': -0.5105259409627099},\n",
        " 'Ireland': {'Ub': -0.3981267621848539,\n",
        "  'Uf': -0.45459622373395625,\n",
        "  'Us': -0.45459622373395625,\n",
        "  'Usq': -0.45459622373395625,\n",
        "  'Uw': -0.5105259409627099},\n",
        " 'Italy': {'Ub': 0.05729834359781294,\n",
        "  'Uf': -1.2661706185037662,\n",
        "  'Us': 0.4937393446077507,\n",
        "  'Usq': -0.45459622373395625,\n",
        "  'Uw': -0.9248738741885321},\n",
        " 'Luxembourg': {'Ub': 0.05729834359781294,\n",
        "  'Uf': -1.2661706185037662,\n",
        "  'Us': 0.4937393446077507,\n",
        "  'Usq': -0.45459622373395625,\n",
        "  'Uw': -0.9248738741885321},\n",
        " 'UK': {'Ub': 0.05729834359781294,\n",
        "  'Uf': -1.2661706185037662,\n",
        "  'Us': 0.4937393446077507,\n",
        "  'Usq': -0.45459622373395625,\n",
        "  'Uw': -0.9248738741885321}}"
       ]
      }
     ],
     "prompt_number": 21
    },
    {
     "cell_type": "markdown",
     "metadata": {},
     "source": [
      "### Calculating Expected Utilities again"
     ]
    },
    {
     "cell_type": "code",
     "collapsed": false,
     "input": [
      "for actor in Actors:\n",
      "    for alter in Actors:\n",
      "        if actor is not alter:\n",
      "            actor.calculate_expected_utility(alter)"
     ],
     "language": "python",
     "metadata": {},
     "outputs": [],
     "prompt_number": 22
    },
    {
     "cell_type": "code",
     "collapsed": false,
     "input": [
      "a2.expected_utilities"
     ],
     "language": "python",
     "metadata": {},
     "outputs": [
      {
       "metadata": {},
       "output_type": "pyout",
       "prompt_number": 23,
       "text": [
        "{'Denmark': 0.0,\n",
        " 'France': -136.07269721695988,\n",
        " 'Germany': 0.0,\n",
        " 'Greece': -87.55461626275795,\n",
        " 'Ireland': -11.650678783267477,\n",
        " 'Italy': -136.07269721695988,\n",
        " 'Luxembourg': 0.0,\n",
        " 'Netherlands': -49.60264752301271,\n",
        " 'UK': -205.11379310737084}"
       ]
      }
     ],
     "prompt_number": 23
    },
    {
     "cell_type": "code",
     "collapsed": false,
     "input": [
      "model.determine_offers()"
     ],
     "language": "python",
     "metadata": {},
     "outputs": [
      {
       "output_type": "stream",
       "stream": "stdout",
       "text": [
        "Netherlands Belgium Status Quo\n",
        "Netherlands Luxembourg Status Quo\n",
        "Netherlands Germany Status Quo\n",
        "Netherlands France Status Quo\n",
        "Netherlands Italy Status Quo\n",
        "Netherlands UK Status Quo\n",
        "Netherlands Ireland Status Quo\n",
        "Netherlands Denmark Status Quo\n",
        "Netherlands Greece Compromise, Netherlands wins.\n",
        "Belgium Luxembourg Status Quo\n",
        "Belgium Germany Status Quo\n",
        "Belgium France Status Quo\n",
        "Belgium Italy Status Quo\n",
        "Belgium UK Status Quo\n",
        "Belgium Ireland Status Quo\n",
        "Belgium Denmark Status Quo\n",
        "Belgium Greece Status Quo\n",
        "Luxembourg Germany Status Quo\n",
        "Luxembourg France Status Quo\n",
        "Luxembourg Italy Status Quo\n",
        "Luxembourg UK Status Quo\n",
        "Luxembourg Ireland Status Quo\n",
        "Luxembourg Denmark Status Quo\n",
        "Luxembourg Greece Status Quo\n",
        "Germany France Status Quo\n",
        "Germany Italy Status Quo\n",
        "Germany UK Status Quo\n",
        "Germany Ireland Status Quo\n",
        "Germany Denmark Status Quo\n",
        "Germany Greece Status Quo\n",
        "France Italy Status Quo\n",
        "France UK Complel, UK wins.\n",
        "France Ireland Status Quo\n",
        "France Denmark Status Quo\n",
        "France Greece Status Quo\n",
        "Italy UK Complel, UK wins.\n",
        "Italy Ireland Status Quo\n",
        "Italy Denmark Status Quo\n",
        "Italy Greece Status Quo\n",
        "UK Ireland Status Quo\n",
        "UK Denmark Status Quo\n",
        "UK Greece Status Quo\n",
        "Ireland Denmark Status Quo\n",
        "Ireland Greece Compromise, Ireland wins.\n",
        "Denmark Greece Status Quo\n"
       ]
      }
     ],
     "prompt_number": 24
    },
    {
     "cell_type": "code",
     "collapsed": false,
     "input": [
      "model.make_offers_happen()"
     ],
     "language": "python",
     "metadata": {},
     "outputs": [],
     "prompt_number": 25
    },
    {
     "cell_type": "code",
     "collapsed": false,
     "input": [
      "for actor in Actors:\n",
      "    print actor.offers"
     ],
     "language": "python",
     "metadata": {},
     "outputs": [
      {
       "output_type": "stream",
       "stream": "stdout",
       "text": [
        "[]\n",
        "[]\n",
        "[]\n",
        "[]\n",
        "[{'EU': 2.220446049250313e-16, 'x': 10.0, 'Sender': 'UK'}]\n",
        "[{'EU': 2.220446049250313e-16, 'x': 10.0, 'Sender': 'UK'}]\n",
        "[]\n",
        "[]\n",
        "[]\n",
        "[{'EU': 1.7763568394002505e-15, 'x': 7.0, 'Sender': 'Netherlands'}, {'EU': 5.329070518200751e-15, 'x': 7.0, 'Sender': 'Ireland'}]\n"
       ]
      }
     ],
     "prompt_number": 26
    },
    {
     "cell_type": "code",
     "collapsed": false,
     "input": [
      "for actor in Actors:\n",
      "    actor.choose_offer()"
     ],
     "language": "python",
     "metadata": {},
     "outputs": [
      {
       "output_type": "stream",
       "stream": "stdout",
       "text": [
        "France changing position!\n",
        "Italy changing position!\n"
       ]
      }
     ],
     "prompt_number": 27
    },
    {
     "cell_type": "markdown",
     "metadata": {},
     "source": [
      "## Round 2"
     ]
    },
    {
     "cell_type": "markdown",
     "metadata": {},
     "source": [
      "### Update median voter"
     ]
    },
    {
     "cell_type": "code",
     "collapsed": false,
     "input": [
      "model.vote()"
     ],
     "language": "python",
     "metadata": {},
     "outputs": [
      {
       "output_type": "stream",
       "stream": "stdout",
       "text": [
        "(4.0, 10.0) -8.8\n",
        "(4.0, 7.0) -9.05\n",
        "(10.0, 4.0) 8.8\n",
        "(10.0, 10.0) 0.0\n",
        "(10.0, 7.0) -0.25\n",
        "(4.0, 4.0) 0.0\n",
        "(7.0, 7.0) 0.0\n",
        "(7.0, 4.0) 9.05\n",
        "(7.0, 10.0) 0.25\n"
       ]
      },
      {
       "metadata": {},
       "output_type": "pyout",
       "prompt_number": 28,
       "text": [
        "7.0"
       ]
      }
     ],
     "prompt_number": 28
    },
    {
     "cell_type": "code",
     "collapsed": false,
     "input": [
      "model.mu = model.find_mean()"
     ],
     "language": "python",
     "metadata": {},
     "outputs": [],
     "prompt_number": 29
    },
    {
     "cell_type": "code",
     "collapsed": false,
     "input": [
      "print model.mu"
     ],
     "language": "python",
     "metadata": {},
     "outputs": [
      {
       "output_type": "stream",
       "stream": "stdout",
       "text": [
        "7.38995568685\n"
       ]
      }
     ],
     "prompt_number": 30
    },
    {
     "cell_type": "markdown",
     "metadata": {},
     "source": [
      "### Calculate basic utilities"
     ]
    },
    {
     "cell_type": "code",
     "collapsed": false,
     "input": [
      "for actor in Actors:\n",
      "    for alter in Actors:\n",
      "        if actor is not alter:\n",
      "            actor.calculate_utilities(alter)"
     ],
     "language": "python",
     "metadata": {},
     "outputs": [],
     "prompt_number": 31
    },
    {
     "cell_type": "markdown",
     "metadata": {},
     "source": [
      "### Win probabilities"
     ]
    },
    {
     "cell_type": "code",
     "collapsed": false,
     "input": [
      "for actor in Actors:\n",
      "    for alter in Actors:\n",
      "        if actor is not alter:\n",
      "            actor.calculate_prob(alter)"
     ],
     "language": "python",
     "metadata": {},
     "outputs": [],
     "prompt_number": 32
    },
    {
     "cell_type": "markdown",
     "metadata": {},
     "source": [
      "### Expected Utilities"
     ]
    },
    {
     "cell_type": "code",
     "collapsed": false,
     "input": [
      "for actor in Actors:\n",
      "    for alter in Actors:\n",
      "        if actor is not alter:\n",
      "            actor.calculate_expected_utility(alter)"
     ],
     "language": "python",
     "metadata": {},
     "outputs": [],
     "prompt_number": 33
    },
    {
     "cell_type": "markdown",
     "metadata": {},
     "source": [
      "### Make offers"
     ]
    },
    {
     "cell_type": "code",
     "collapsed": false,
     "input": [
      "model.determine_offers()"
     ],
     "language": "python",
     "metadata": {},
     "outputs": [
      {
       "output_type": "stream",
       "stream": "stdout",
       "text": [
        "Netherlands Belgium Status Quo\n",
        "Netherlands Luxembourg Status Quo\n",
        "Netherlands Germany Status Quo\n",
        "Netherlands France Status Quo\n",
        "Netherlands Italy Status Quo\n",
        "Netherlands UK Status Quo\n",
        "Netherlands Ireland Status Quo\n",
        "Netherlands Denmark Status Quo\n",
        "Netherlands Greece Compromise, Netherlands wins.\n",
        "Belgium Luxembourg Status Quo\n",
        "Belgium Germany Status Quo\n",
        "Belgium France Status Quo\n",
        "Belgium Italy Status Quo\n",
        "Belgium UK Status Quo\n",
        "Belgium Ireland Status Quo\n",
        "Belgium Denmark Status Quo\n",
        "Belgium Greece Status Quo\n",
        "Luxembourg Germany Status Quo\n",
        "Luxembourg France Status Quo\n",
        "Luxembourg Italy Status Quo\n",
        "Luxembourg UK Status Quo\n",
        "Luxembourg Ireland Status Quo\n",
        "Luxembourg Denmark Status Quo\n",
        "Luxembourg Greece Status Quo\n",
        "Germany France Status Quo\n",
        "Germany Italy Status Quo\n",
        "Germany UK Status Quo\n",
        "Germany Ireland Status Quo\n",
        "Germany Denmark Status Quo\n",
        "Germany Greece Status Quo\n",
        "France Italy Status Quo\n",
        "France UK Complel, UK wins.\n",
        "France Ireland Status Quo\n",
        "France Denmark Status Quo\n",
        "France Greece Status Quo\n",
        "Italy UK Complel, UK wins.\n",
        "Italy Ireland Status Quo\n",
        "Italy Denmark Status Quo\n",
        "Italy Greece Status Quo\n",
        "UK Ireland Status Quo\n",
        "UK Denmark Status Quo\n",
        "UK Greece Status Quo\n",
        "Ireland Denmark Status Quo\n",
        "Ireland Greece Compromise, Ireland wins.\n",
        "Denmark Greece Status Quo\n"
       ]
      }
     ],
     "prompt_number": 34
    },
    {
     "cell_type": "code",
     "collapsed": false,
     "input": [
      "model.make_offers_happen()"
     ],
     "language": "python",
     "metadata": {},
     "outputs": [],
     "prompt_number": 35
    },
    {
     "cell_type": "code",
     "collapsed": false,
     "input": [
      "for actor in Actors:\n",
      "    print actor.offers"
     ],
     "language": "python",
     "metadata": {},
     "outputs": [
      {
       "output_type": "stream",
       "stream": "stdout",
       "text": [
        "[]\n",
        "[]\n",
        "[]\n",
        "[]\n",
        "[{'EU': 2.220446049250313e-16, 'x': 10.0, 'Sender': 'UK'}]\n",
        "[{'EU': 2.220446049250313e-16, 'x': 10.0, 'Sender': 'UK'}]\n",
        "[]\n",
        "[]\n",
        "[]\n",
        "[{'EU': 1.7763568394002505e-15, 'x': 7.0, 'Sender': 'Netherlands'}, {'EU': 5.329070518200751e-15, 'x': 7.0, 'Sender': 'Ireland'}]\n"
       ]
      }
     ],
     "prompt_number": 36
    },
    {
     "cell_type": "code",
     "collapsed": false,
     "input": [
      "Actors[-1].x"
     ],
     "language": "python",
     "metadata": {},
     "outputs": [
      {
       "metadata": {},
       "output_type": "pyout",
       "prompt_number": 37,
       "text": [
        "7.0"
       ]
      }
     ],
     "prompt_number": 37
    },
    {
     "cell_type": "code",
     "collapsed": false,
     "input": [
      "for actor in Actors:\n",
      "    actor.choose_offer()"
     ],
     "language": "python",
     "metadata": {},
     "outputs": [
      {
       "output_type": "stream",
       "stream": "stdout",
       "text": [
        "France changing position!\n",
        "Italy changing position!\n"
       ]
      }
     ],
     "prompt_number": 38
    },
    {
     "cell_type": "markdown",
     "metadata": {},
     "source": [
      "## Round 3"
     ]
    },
    {
     "cell_type": "code",
     "collapsed": false,
     "input": [
      "model.mu = model.vote()"
     ],
     "language": "python",
     "metadata": {},
     "outputs": [
      {
       "output_type": "stream",
       "stream": "stdout",
       "text": [
        "(4.0, 10.0) -8.8\n",
        "(4.0, 7.0) -9.05\n",
        "(10.0, 4.0) 8.8\n",
        "(10.0, 10.0) 0.0\n",
        "(10.0, 7.0) -0.25\n",
        "(4.0, 4.0) 0.0\n",
        "(7.0, 7.0) 0.0\n",
        "(7.0, 4.0) 9.05\n",
        "(7.0, 10.0) 0.25\n"
       ]
      }
     ],
     "prompt_number": 39
    },
    {
     "cell_type": "code",
     "collapsed": false,
     "input": [],
     "language": "python",
     "metadata": {},
     "outputs": [],
     "prompt_number": 39
    }
   ],
   "metadata": {}
  }
 ]
}
{
 "metadata": {
  "name": "",
  "signature": "sha256:90c95f03a283efa61885612decfcc7a43959b9b14159d7e952b116ec2aa042ba"
 },
 "nbformat": 3,
 "nbformat_minor": 0,
 "worksheets": [
  {
   "cells": [
    {
     "cell_type": "code",
     "collapsed": false,
     "input": [
      "from __future__ import division\n",
      "import numpy as np\n",
      "\n",
      "import csv"
     ],
     "language": "python",
     "metadata": {},
     "outputs": [],
     "prompt_number": 1
    },
    {
     "cell_type": "code",
     "collapsed": false,
     "input": [
      "from GroupDecisionModel import Actor, Model"
     ],
     "language": "python",
     "metadata": {},
     "outputs": [],
     "prompt_number": 2
    },
    {
     "cell_type": "markdown",
     "metadata": {},
     "source": [
      "## Loading sample data"
     ]
    },
    {
     "cell_type": "code",
     "collapsed": false,
     "input": [
      "with open(\"ExampleActors.csv\", 'rU') as f:\n",
      "    reader = csv.DictReader(f, )\n",
      "    actors = [actor for actor in reader]\n",
      "\n",
      "for actor in actors:\n",
      "    for key in actor:\n",
      "        try:\n",
      "            actor[key] = float(actor[key])\n",
      "        except:\n",
      "            continue"
     ],
     "language": "python",
     "metadata": {},
     "outputs": [],
     "prompt_number": 3
    },
    {
     "cell_type": "code",
     "collapsed": false,
     "input": [
      "Actors = []\n",
      "for actor in actors:\n",
      "    new_actor = Actor(actor[\"Actor\"], None, actor[\"Position\"], actor[\"Capability\"], actor[\"Salience\"])\n",
      "    Actors.append(new_actor)"
     ],
     "language": "python",
     "metadata": {},
     "outputs": [],
     "prompt_number": 4
    },
    {
     "cell_type": "code",
     "collapsed": false,
     "input": [
      "model = Model(Actors, 10, 4)"
     ],
     "language": "python",
     "metadata": {},
     "outputs": [],
     "prompt_number": 5
    },
    {
     "cell_type": "markdown",
     "metadata": {},
     "source": [
      "## 3. Calculate Pairwise Voting\n",
      "\n",
      "$$v^{jk} = \\sum^{n}_{i=1}|x_i-x_k| - |x_i-x_j|$$"
     ]
    },
    {
     "cell_type": "code",
     "collapsed": false,
     "input": [
      "model.vote()"
     ],
     "language": "python",
     "metadata": {},
     "outputs": [
      {
       "output_type": "stream",
       "stream": "stdout",
       "text": [
        "(4.0, 10.0) -8.8\n",
        "(4.0, 7.0) -9.05\n",
        "(10.0, 4.0) 8.8\n",
        "(10.0, 10.0) 0.0\n",
        "(10.0, 7.0) -0.25\n",
        "(4.0, 4.0) 0.0\n",
        "(7.0, 7.0) 0.0\n",
        "(7.0, 4.0) 9.05\n",
        "(7.0, 10.0) 0.25\n"
       ]
      },
      {
       "metadata": {},
       "output_type": "pyout",
       "prompt_number": 6,
       "text": [
        "7.0"
       ]
      }
     ],
     "prompt_number": 6
    },
    {
     "cell_type": "code",
     "collapsed": false,
     "input": [
      "model.mu = model.find_mean()"
     ],
     "language": "python",
     "metadata": {},
     "outputs": [],
     "prompt_number": 7
    },
    {
     "cell_type": "code",
     "collapsed": false,
     "input": [
      "print model.mu"
     ],
     "language": "python",
     "metadata": {},
     "outputs": [
      {
       "output_type": "stream",
       "stream": "stdout",
       "text": [
        "7.38995568685\n"
       ]
      }
     ],
     "prompt_number": 8
    },
    {
     "cell_type": "markdown",
     "metadata": {},
     "source": [
      "## 4. Calculate basic utilities"
     ]
    },
    {
     "cell_type": "code",
     "collapsed": false,
     "input": [
      "for actor in Actors:\n",
      "    actor.model = model"
     ],
     "language": "python",
     "metadata": {},
     "outputs": [],
     "prompt_number": 9
    },
    {
     "cell_type": "code",
     "collapsed": false,
     "input": [
      "for actor in Actors:\n",
      "    for alter in Actors:\n",
      "        if actor is not alter:\n",
      "            actor.calculate_utilities(alter)"
     ],
     "language": "python",
     "metadata": {},
     "outputs": [],
     "prompt_number": 10
    },
    {
     "cell_type": "code",
     "collapsed": false,
     "input": [
      "a1 = Actors[0]\n",
      "a2 = Actors[1]"
     ],
     "language": "python",
     "metadata": {},
     "outputs": [],
     "prompt_number": 11
    },
    {
     "cell_type": "code",
     "collapsed": false,
     "input": [
      "a1.basic_utilities"
     ],
     "language": "python",
     "metadata": {},
     "outputs": [
      {
       "metadata": {},
       "output_type": "pyout",
       "prompt_number": 12,
       "text": [
        "{'Belgium': {'Ub': 1.0649926144756277,\n",
        "  'Uf': -1.0,\n",
        "  'Us': 1.0,\n",
        "  'Usq': 0.0,\n",
        "  'Uw': -1.0649926144756279},\n",
        " 'Denmark': {'Ub': 0.5649926144756279,\n",
        "  'Uf': 0.0,\n",
        "  'Us': 0.0,\n",
        "  'Usq': 0.0,\n",
        "  'Uw': -0.5649926144756279},\n",
        " 'France': {'Ub': 1.5649926144756279,\n",
        "  'Uf': -2.0,\n",
        "  'Us': 2.0,\n",
        "  'Usq': 0.0,\n",
        "  'Uw': -1.5649926144756279},\n",
        " 'Germany': {'Ub': 0.5649926144756279,\n",
        "  'Uf': 0.0,\n",
        "  'Us': 0.0,\n",
        "  'Usq': 0.0,\n",
        "  'Uw': -0.5649926144756279},\n",
        " 'Greece': {'Ub': 1.0649926144756277,\n",
        "  'Uf': -1.0,\n",
        "  'Us': 1.0,\n",
        "  'Usq': 0.0,\n",
        "  'Uw': -1.0649926144756279},\n",
        " 'Ireland': {'Ub': 1.0649926144756277,\n",
        "  'Uf': -1.0,\n",
        "  'Us': 1.0,\n",
        "  'Usq': 0.0,\n",
        "  'Uw': -1.0649926144756279},\n",
        " 'Italy': {'Ub': 1.5649926144756279,\n",
        "  'Uf': -2.0,\n",
        "  'Us': 2.0,\n",
        "  'Usq': 0.0,\n",
        "  'Uw': -1.5649926144756279},\n",
        " 'Luxembourg': {'Ub': 0.5649926144756279,\n",
        "  'Uf': 0.0,\n",
        "  'Us': 0.0,\n",
        "  'Usq': 0.0,\n",
        "  'Uw': -0.5649926144756279},\n",
        " 'UK': {'Ub': 1.5649926144756279,\n",
        "  'Uf': -2.0,\n",
        "  'Us': 2.0,\n",
        "  'Usq': 0.0,\n",
        "  'Uw': -1.5649926144756279}}"
       ]
      }
     ],
     "prompt_number": 12
    },
    {
     "cell_type": "markdown",
     "metadata": {},
     "source": [
      "## 5. Calculate win probabilities"
     ]
    },
    {
     "cell_type": "code",
     "collapsed": false,
     "input": [
      "for actor in Actors:\n",
      "    for alter in Actors:\n",
      "        if actor is not alter:\n",
      "            actor.calculate_prob(alter)"
     ],
     "language": "python",
     "metadata": {},
     "outputs": [],
     "prompt_number": 13
    },
    {
     "cell_type": "code",
     "collapsed": false,
     "input": [
      "a1.probs"
     ],
     "language": "python",
     "metadata": {},
     "outputs": [
      {
       "metadata": {},
       "output_type": "pyout",
       "prompt_number": 14,
       "text": [
        "{'Belgium': 0.30016313213703094,\n",
        " 'Denmark': 0,\n",
        " 'France': 0.35384615384615387,\n",
        " 'Germany': 0,\n",
        " 'Greece': 0.30016313213703094,\n",
        " 'Ireland': 0.30016313213703094,\n",
        " 'Italy': 0.35384615384615387,\n",
        " 'Luxembourg': 0,\n",
        " 'UK': 0.35384615384615387}"
       ]
      }
     ],
     "prompt_number": 14
    },
    {
     "cell_type": "markdown",
     "metadata": {},
     "source": [
      "## 7. Calculate Expected Utilities"
     ]
    },
    {
     "cell_type": "code",
     "collapsed": false,
     "input": [
      "model.T = 1"
     ],
     "language": "python",
     "metadata": {},
     "outputs": [],
     "prompt_number": 15
    },
    {
     "cell_type": "code",
     "collapsed": false,
     "input": [
      "for actor in Actors:\n",
      "    for alter in Actors:\n",
      "        if actor is not alter:\n",
      "            actor.calculate_expected_utility(alter)"
     ],
     "language": "python",
     "metadata": {},
     "outputs": [],
     "prompt_number": 16
    },
    {
     "cell_type": "code",
     "collapsed": false,
     "input": [
      "a1.expected_utilities"
     ],
     "language": "python",
     "metadata": {},
     "outputs": [
      {
       "metadata": {},
       "output_type": "pyout",
       "prompt_number": 17,
       "text": [
        "{'Belgium': -54.98694942903752,\n",
        " 'Denmark': 0.0,\n",
        " 'France': -153.07692307692307,\n",
        " 'Germany': 0.0,\n",
        " 'Greece': -96.97716150081567,\n",
        " 'Ireland': -12.99673735725938,\n",
        " 'Italy': -153.07692307692307,\n",
        " 'Luxembourg': 0.0,\n",
        " 'UK': -230.61538461538458}"
       ]
      }
     ],
     "prompt_number": 17
    },
    {
     "cell_type": "code",
     "collapsed": false,
     "input": [
      "[actor.name for actor in Actors if actor is not a1]"
     ],
     "language": "python",
     "metadata": {},
     "outputs": [
      {
       "metadata": {},
       "output_type": "pyout",
       "prompt_number": 22,
       "text": [
        "['Belgium',\n",
        " 'Luxembourg',\n",
        " 'Germany',\n",
        " 'France',\n",
        " 'Italy',\n",
        " 'UK',\n",
        " 'Ireland',\n",
        " 'Denmark',\n",
        " 'Greece']"
       ]
      }
     ],
     "prompt_number": 22
    },
    {
     "cell_type": "code",
     "collapsed": false,
     "input": [
      "Actors[1].expected_utilities"
     ],
     "language": "python",
     "metadata": {},
     "outputs": [
      {
       "metadata": {},
       "output_type": "pyout",
       "prompt_number": 19,
       "text": [
        "{'Denmark': -75.89922480620154,\n",
        " 'France': -61.51162790697674,\n",
        " 'Germany': -60.519379844961236,\n",
        " 'Greece': 0.0,\n",
        " 'Ireland': 0.0,\n",
        " 'Italy': -61.51162790697674,\n",
        " 'Luxembourg': -14.379844961240309,\n",
        " 'Netherlands': -60.519379844961236,\n",
        " 'UK': -92.76744186046511}"
       ]
      }
     ],
     "prompt_number": 19
    },
    {
     "cell_type": "markdown",
     "metadata": {},
     "source": [
      "## 8.9. Calculate R and r"
     ]
    },
    {
     "cell_type": "code",
     "collapsed": false,
     "input": [
      "for actor in Actors:\n",
      "    actor.calculate_r()"
     ],
     "language": "python",
     "metadata": {},
     "outputs": [],
     "prompt_number": 20
    },
    {
     "cell_type": "code",
     "collapsed": false,
     "input": [
      "[actor.r for actor in Actors]"
     ],
     "language": "python",
     "metadata": {},
     "outputs": [
      {
       "metadata": {},
       "output_type": "pyout",
       "prompt_number": 19,
       "text": [
        "[1.9999999999999998,\n",
        " 0.5000000000000001,\n",
        " 0.5000000000000001,\n",
        " 0.5000000000000001,\n",
        " 0.8398197981405977,\n",
        " 0.8398197981405977,\n",
        " 0.8398197981405977,\n",
        " 1.9999999999999998,\n",
        " 0.5000000000000001,\n",
        " 1.9999999999999998]"
       ]
      }
     ],
     "prompt_number": 19
    },
    {
     "cell_type": "markdown",
     "metadata": {},
     "source": [
      "##10. Going back and recalculating new utilities"
     ]
    },
    {
     "cell_type": "code",
     "collapsed": false,
     "input": [
      "for actor in Actors:\n",
      "    for alter in Actors:\n",
      "        if actor is not alter:\n",
      "            actor.calculate_utilities(alter)"
     ],
     "language": "python",
     "metadata": {},
     "outputs": [],
     "prompt_number": 20
    },
    {
     "cell_type": "code",
     "collapsed": false,
     "input": [
      "a1.basic_utilities"
     ],
     "language": "python",
     "metadata": {},
     "outputs": [
      {
       "metadata": {},
       "output_type": "pyout",
       "prompt_number": 21,
       "text": [
        "{'Belgium': {'Ub': 1.4851884508726263,\n",
        "  'Uf': -0.25,\n",
        "  'Us': 1.75,\n",
        "  'Usq': 0.9999999999999998,\n",
        "  'Uw': 0.35520322192137055},\n",
        " 'Denmark': {'Ub': 1.4851884508726263,\n",
        "  'Uf': -0.25,\n",
        "  'Us': 1.75,\n",
        "  'Usq': 0.9999999999999998,\n",
        "  'Uw': 0.35520322192137055},\n",
        " 'France': {'Ub': 1.4851884508726263,\n",
        "  'Uf': -0.25,\n",
        "  'Us': 1.75,\n",
        "  'Usq': 0.9999999999999998,\n",
        "  'Uw': 0.35520322192137055},\n",
        " 'Germany': {'Ub': 1.4851884508726263,\n",
        "  'Uf': -0.25,\n",
        "  'Us': 1.75,\n",
        "  'Usq': 0.9999999999999998,\n",
        "  'Uw': 0.35520322192137055},\n",
        " 'Greece': {'Ub': 1.0639366044915333,\n",
        "  'Uf': 0.9999999999999998,\n",
        "  'Us': 0.9999999999999998,\n",
        "  'Usq': 0.9999999999999998,\n",
        "  'Uw': 0.9339513755402775},\n",
        " 'Ireland': {'Ub': 1.0639366044915333,\n",
        "  'Uf': 0.9999999999999998,\n",
        "  'Us': 0.9999999999999998,\n",
        "  'Usq': 0.9999999999999998,\n",
        "  'Uw': 0.9339513755402775},\n",
        " 'Italy': {'Ub': 1.4851884508726263,\n",
        "  'Uf': -0.25,\n",
        "  'Us': 1.75,\n",
        "  'Usq': 0.9999999999999998,\n",
        "  'Uw': 0.35520322192137055},\n",
        " 'Luxembourg': {'Ub': 1.4851884508726263,\n",
        "  'Uf': -0.25,\n",
        "  'Us': 1.75,\n",
        "  'Usq': 0.9999999999999998,\n",
        "  'Uw': 0.35520322192137055},\n",
        " 'UK': {'Ub': 1.4851884508726263,\n",
        "  'Uf': -0.25,\n",
        "  'Us': 1.75,\n",
        "  'Usq': 0.9999999999999998,\n",
        "  'Uw': 0.35520322192137055}}"
       ]
      }
     ],
     "prompt_number": 21
    },
    {
     "cell_type": "markdown",
     "metadata": {},
     "source": [
      "### Calculating Expected Utilities again"
     ]
    },
    {
     "cell_type": "code",
     "collapsed": false,
     "input": [
      "for actor in Actors:\n",
      "    for alter in Actors:\n",
      "        if actor is not alter:\n",
      "            actor.calculate_expected_utility(alter)"
     ],
     "language": "python",
     "metadata": {},
     "outputs": [],
     "prompt_number": 22
    },
    {
     "cell_type": "code",
     "collapsed": false,
     "input": [
      "a2.expected_utilities"
     ],
     "language": "python",
     "metadata": {},
     "outputs": [
      {
       "metadata": {},
       "output_type": "pyout",
       "prompt_number": 23,
       "text": [
        "{'Denmark': -82.01428534987281,\n",
        " 'France': 16.71883808365034,\n",
        " 'Germany': -82.01428534987281,\n",
        " 'Greece': -73.39309049937158,\n",
        " 'Ireland': -73.39309049937158,\n",
        " 'Italy': 16.71883808365034,\n",
        " 'Luxembourg': -82.01428534987281,\n",
        " 'Netherlands': -73.39309049937158,\n",
        " 'UK': 16.71883808365034}"
       ]
      }
     ],
     "prompt_number": 23
    },
    {
     "cell_type": "code",
     "collapsed": false,
     "input": [
      "model.determine_offers()"
     ],
     "language": "python",
     "metadata": {},
     "outputs": [
      {
       "output_type": "stream",
       "stream": "stdout",
       "text": [
        "Netherlands Belgium Compromise, Netherlands wins.\n",
        "Netherlands Luxembourg Compromise, Netherlands wins.\n",
        "Netherlands Germany Compromise, Netherlands wins.\n",
        "Netherlands France Conflict, Netherlands wins.\n",
        "Netherlands Italy Conflict, Netherlands wins.\n",
        "Netherlands UK Compromise, Netherlands wins.\n",
        "Netherlands Ireland Conflict, Ireland wins.\n",
        "Netherlands Denmark Compromise, Netherlands wins.\n",
        "Netherlands Greece Conflict, Greece wins.\n",
        "Belgium Luxembourg Status Quo\n",
        "Belgium Germany Status Quo\n",
        "Belgium France Conflict, France wins.\n",
        "Belgium Italy Conflict, Italy wins.\n",
        "Belgium UK Conflict, UK wins.\n",
        "Belgium Ireland Compromise, Ireland wins.\n",
        "Belgium Denmark Status Quo\n",
        "Belgium Greece Compromise, Greece wins.\n",
        "Luxembourg Germany Status Quo\n",
        "Luxembourg France Conflict, Luxembourg wins.\n",
        "Luxembourg Italy Conflict, Luxembourg wins.\n",
        "Luxembourg UK Conflict, Luxembourg wins.\n",
        "Luxembourg Ireland Compromise, Ireland wins.\n",
        "Luxembourg Denmark Status Quo\n",
        "Luxembourg Greece Compromise, Greece wins.\n",
        "Germany France Conflict, France wins.\n",
        "Germany Italy Conflict, Italy wins.\n",
        "Germany UK Conflict, UK wins.\n",
        "Germany Ireland Compromise, Ireland wins.\n",
        "Germany Denmark Status Quo\n",
        "Germany Greece Compromise, Greece wins.\n",
        "France Italy Status Quo\n",
        "France UK Status Quo\n",
        "France Ireland Conflict, Ireland wins.\n",
        "France Denmark Compromise, France wins.\n",
        "France Greece Conflict, Greece wins.\n",
        "Italy UK Status Quo\n",
        "Italy Ireland Conflict, Ireland wins.\n",
        "Italy Denmark Compromise, Italy wins.\n",
        "Italy Greece Conflict, Greece wins.\n",
        "UK Ireland Compromise, Ireland wins.\n",
        "UK Denmark Compromise, UK wins.\n",
        "UK Greece Compromise, Greece wins.\n",
        "Ireland Denmark Compromise, Ireland wins.\n",
        "Ireland Greece Conflict, Ireland wins.\n",
        "Denmark Greece Compromise, Greece wins.\n"
       ]
      }
     ],
     "prompt_number": 24
    },
    {
     "cell_type": "code",
     "collapsed": false,
     "input": [
      "model.make_offers_happen()"
     ],
     "language": "python",
     "metadata": {},
     "outputs": [],
     "prompt_number": 25
    },
    {
     "cell_type": "code",
     "collapsed": false,
     "input": [
      "for actor in Actors:\n",
      "    print actor.offers"
     ],
     "language": "python",
     "metadata": {},
     "outputs": [
      {
       "output_type": "stream",
       "stream": "stdout",
       "text": [
        "[{'EU': 18.166167551899058, 'x': 10.0, 'Sender': 'France'}, {'EU': 18.166167551899058, 'x': 10.0, 'Sender': 'Italy'}, {'EU': 98.99999999999999, 'x': 7.0, 'Sender': 'Ireland'}, {'EU': 98.99999999999997, 'x': 7.0, 'Sender': 'Greece'}]\n",
        "[{'EU': 144.69423929098966, 'x': 7.0, 'Sender': 'Netherlands'}, {'EU': 98.31704518705101, 'x': 10.0, 'Sender': 'France'}, {'EU': 98.31704518705101, 'x': 10.0, 'Sender': 'Italy'}, {'EU': 47.35814107746196, 'x': 10.0, 'Sender': 'UK'}, {'EU': 166.67355982274742, 'x': 7.0, 'Sender': 'Ireland'}, {'EU': 122.71491875923189, 'x': 7.0, 'Sender': 'Greece'}]\n",
        "[{'EU': 144.69423929098966, 'x': 7.0, 'Sender': 'Netherlands'}, {'EU': 98.31704518705101, 'x': 10.0, 'Sender': 'France'}, {'EU': 98.31704518705101, 'x': 10.0, 'Sender': 'Italy'}, {'EU': 47.35814107746196, 'x': 10.0, 'Sender': 'UK'}, {'EU': 166.67355982274742, 'x': 7.0, 'Sender': 'Ireland'}, {'EU': 122.71491875923189, 'x': 7.0, 'Sender': 'Greece'}]\n",
        "[{'EU': 144.69423929098966, 'x': 7.0, 'Sender': 'Netherlands'}, {'EU': 98.31704518705101, 'x': 10.0, 'Sender': 'France'}, {'EU': 98.31704518705101, 'x': 10.0, 'Sender': 'Italy'}, {'EU': 47.35814107746196, 'x': 10.0, 'Sender': 'UK'}, {'EU': 166.67355982274742, 'x': 7.0, 'Sender': 'Ireland'}, {'EU': 122.71491875923189, 'x': 7.0, 'Sender': 'Greece'}]\n",
        "[{'EU': 134.29542097488923, 'x': 7.0, 'Sender': 'Netherlands'}, {'EU': 16.71883808365034, 'x': 4.0, 'Sender': 'Belgium'}, {'EU': 154.8010298644722, 'x': 4.0, 'Sender': 'Luxembourg'}, {'EU': 16.71883808365034, 'x': 4.0, 'Sender': 'Germany'}, {'EU': 164.0738552437223, 'x': 7.0, 'Sender': 'Ireland'}, {'EU': 104.51698670605614, 'x': 7.0, 'Sender': 'Greece'}]\n",
        "[{'EU': 134.29542097488923, 'x': 7.0, 'Sender': 'Netherlands'}, {'EU': 16.71883808365034, 'x': 4.0, 'Sender': 'Belgium'}, {'EU': 154.8010298644722, 'x': 4.0, 'Sender': 'Luxembourg'}, {'EU': 16.71883808365034, 'x': 4.0, 'Sender': 'Germany'}, {'EU': 164.0738552437223, 'x': 7.0, 'Sender': 'Ireland'}, {'EU': 104.51698670605614, 'x': 7.0, 'Sender': 'Greece'}]\n",
        "[{'EU': 134.29542097488923, 'x': 7.0, 'Sender': 'Netherlands'}, {'EU': 16.71883808365034, 'x': 4.0, 'Sender': 'Belgium'}, {'EU': 154.8010298644722, 'x': 4.0, 'Sender': 'Luxembourg'}, {'EU': 16.71883808365034, 'x': 4.0, 'Sender': 'Germany'}, {'EU': 164.0738552437223, 'x': 7.0, 'Sender': 'Ireland'}, {'EU': 104.51698670605614, 'x': 7.0, 'Sender': 'Greece'}]\n",
        "[{'EU': 98.99999999999997, 'x': 7.0, 'Sender': 'Netherlands'}, {'EU': 18.166167551899058, 'x': 10.0, 'Sender': 'France'}, {'EU': 18.166167551899058, 'x': 10.0, 'Sender': 'Italy'}, {'EU': 98.99999999999997, 'x': 7.0, 'Sender': 'Greece'}]\n",
        "[{'EU': 144.69423929098966, 'x': 7.0, 'Sender': 'Netherlands'}, {'EU': 98.31704518705101, 'x': 10.0, 'Sender': 'France'}, {'EU': 98.31704518705101, 'x': 10.0, 'Sender': 'Italy'}, {'EU': 47.35814107746196, 'x': 10.0, 'Sender': 'UK'}, {'EU': 166.67355982274742, 'x': 7.0, 'Sender': 'Ireland'}, {'EU': 122.71491875923189, 'x': 7.0, 'Sender': 'Greece'}]\n",
        "[{'EU': 98.99999999999997, 'x': 7.0, 'Sender': 'Netherlands'}, {'EU': 18.166167551899058, 'x': 10.0, 'Sender': 'France'}, {'EU': 18.166167551899058, 'x': 10.0, 'Sender': 'Italy'}, {'EU': 98.99999999999999, 'x': 7.0, 'Sender': 'Ireland'}]\n"
       ]
      }
     ],
     "prompt_number": 26
    },
    {
     "cell_type": "code",
     "collapsed": false,
     "input": [
      "for actor in Actors:\n",
      "    actor.choose_offer()"
     ],
     "language": "python",
     "metadata": {},
     "outputs": [
      {
       "output_type": "stream",
       "stream": "stdout",
       "text": [
        "Netherlands changing position!\n",
        "Belgium changing position!\n",
        "Luxembourg changing position!\n",
        "Germany changing position!\n",
        "France changing position!\n",
        "Italy changing position!\n",
        "UK changing position!\n",
        "Denmark changing position!\n",
        "Greece changing position!\n"
       ]
      }
     ],
     "prompt_number": 27
    },
    {
     "cell_type": "markdown",
     "metadata": {},
     "source": [
      "## Round 2"
     ]
    },
    {
     "cell_type": "markdown",
     "metadata": {},
     "source": [
      "### Update median voter"
     ]
    },
    {
     "cell_type": "code",
     "collapsed": false,
     "input": [
      "model.vote()"
     ],
     "language": "python",
     "metadata": {},
     "outputs": [
      {
       "output_type": "stream",
       "stream": "stdout",
       "text": [
        "(4.319071944586808, 7.0) -16.726493651\n",
        "(7.0, 7.0) 0.0\n",
        "(9.809182513848565, 9.809182513848565) 0.0\n",
        "(7.0, 5.321020992965345) 5.62155836476\n",
        "(9.809182513848565, 5.655004009091525) -14.1554620589\n",
        "(7.0, 4.319071944586808) 16.726493651\n",
        "(5.655004009091525, 5.655004009091525) 0.0\n",
        "(5.655004009091525, 4.319071944586808) 12.6690890784\n",
        "(4.319071944586808, 5.655004009091525) -12.6690890784\n",
        "(5.321020992965345, 7.0) -5.62155836476\n",
        "(5.655004009091525, 5.321020992965345) 1.56415379219\n",
        "(5.321020992965345, 9.809182513848565) 12.5913082667\n",
        "(9.809182513848565, 7.0) -18.2128666315\n",
        "(4.319071944586808, 9.809182513848565) 1.48637298049\n",
        "(7.0, 9.809182513848565) 18.2128666315\n",
        "(5.655004009091525, 7.0) -4.05740457257\n",
        "(5.321020992965345, 4.319071944586808) 11.1049352862\n",
        "(5.655004009091525, 9.809182513848565) 14.1554620589\n",
        "(7.0, 5.655004009091525) 4.05740457257\n",
        "(9.809182513848565, 5.321020992965345) -12.5913082667\n",
        "(5.321020992965345, 5.321020992965345) 0.0\n",
        "(9.809182513848565, 4.319071944586808) -1.48637298049\n",
        "(5.321020992965345, 5.655004009091525) -1.56415379219\n",
        "(4.319071944586808, 4.319071944586808) 0.0\n",
        "(4.319071944586808, 5.321020992965345) -11.1049352862\n"
       ]
      },
      {
       "metadata": {},
       "output_type": "pyout",
       "prompt_number": 28,
       "text": [
        "7.0"
       ]
      }
     ],
     "prompt_number": 28
    },
    {
     "cell_type": "code",
     "collapsed": false,
     "input": [
      "model.mu = model.find_mean()"
     ],
     "language": "python",
     "metadata": {},
     "outputs": [],
     "prompt_number": 29
    },
    {
     "cell_type": "code",
     "collapsed": false,
     "input": [
      "print model.mu"
     ],
     "language": "python",
     "metadata": {},
     "outputs": [
      {
       "output_type": "stream",
       "stream": "stdout",
       "text": [
        "6.99826136598\n"
       ]
      }
     ],
     "prompt_number": 30
    },
    {
     "cell_type": "markdown",
     "metadata": {},
     "source": [
      "### Calculate basic utilities"
     ]
    },
    {
     "cell_type": "code",
     "collapsed": false,
     "input": [
      "for actor in Actors:\n",
      "    for alter in Actors:\n",
      "        if actor is not alter:\n",
      "            actor.calculate_utilities(alter)"
     ],
     "language": "python",
     "metadata": {},
     "outputs": [],
     "prompt_number": 31
    },
    {
     "cell_type": "markdown",
     "metadata": {},
     "source": [
      "### Win probabilities"
     ]
    },
    {
     "cell_type": "code",
     "collapsed": false,
     "input": [
      "for actor in Actors:\n",
      "    for alter in Actors:\n",
      "        if actor is not alter:\n",
      "            actor.calculate_prob(alter)"
     ],
     "language": "python",
     "metadata": {},
     "outputs": [],
     "prompt_number": 32
    },
    {
     "cell_type": "markdown",
     "metadata": {},
     "source": [
      "### Expected Utilities"
     ]
    },
    {
     "cell_type": "code",
     "collapsed": false,
     "input": [
      "for actor in Actors:\n",
      "    for alter in Actors:\n",
      "        if actor is not alter:\n",
      "            actor.calculate_expected_utility(alter)"
     ],
     "language": "python",
     "metadata": {},
     "outputs": [],
     "prompt_number": 33
    },
    {
     "cell_type": "markdown",
     "metadata": {},
     "source": [
      "### Make offers"
     ]
    },
    {
     "cell_type": "code",
     "collapsed": false,
     "input": [
      "model.determine_offers()"
     ],
     "language": "python",
     "metadata": {},
     "outputs": [
      {
       "output_type": "stream",
       "stream": "stdout",
       "text": [
        "Netherlands Belgium Compromise, Netherlands wins.\n",
        "Netherlands Luxembourg Compromise, Netherlands wins.\n",
        "Netherlands Germany Compromise, Netherlands wins.\n",
        "Netherlands France Compromise, Netherlands wins.\n",
        "Netherlands Italy Compromise, Netherlands wins.\n",
        "Netherlands UK Compromise, Netherlands wins.\n",
        "Netherlands Ireland Conflict, Ireland wins.\n",
        "Netherlands Denmark Compromise, Netherlands wins.\n",
        "Netherlands Greece Conflict, Greece wins.\n",
        "Belgium Luxembourg Status Quo\n",
        "Belgium Germany Status Quo\n",
        "Belgium France Complel, France wins.\n",
        "Belgium Italy Complel, Italy wins.\n",
        "Belgium UK Compel, Belgiumwins\n",
        "Belgium Ireland Compromise, Ireland wins.\n",
        "Belgium Denmark Status Quo\n",
        "Belgium Greece Compromise, Greece wins.\n",
        "Luxembourg Germany Status Quo\n",
        "Luxembourg France Compromise, France wins.\n",
        "Luxembourg Italy Compromise, Italy wins.\n",
        "Luxembourg UK Conflict, Luxembourg wins.\n",
        "Luxembourg Ireland Compromise, Ireland wins.\n",
        "Luxembourg Denmark Status Quo\n",
        "Luxembourg Greece Compromise, Greece wins.\n",
        "Germany France Complel, France wins.\n",
        "Germany Italy Complel, Italy wins.\n",
        "Germany UK Compel, Germanywins\n",
        "Germany Ireland Compromise, Ireland wins.\n",
        "Germany Denmark Status Quo\n",
        "Germany Greece Compromise, Greece wins.\n",
        "France Italy Status Quo\n",
        "France UK Compel, Francewins\n",
        "France Ireland Compromise, Ireland wins.\n",
        "France Denmark Compel, Francewins\n",
        "France Greece Compromise, Greece wins.\n",
        "Italy UK Compel, Italywins\n",
        "Italy Ireland Compromise, Ireland wins.\n",
        "Italy Denmark Compel, Italywins\n",
        "Italy Greece Compromise, Greece wins.\n",
        "UK Ireland Compromise, Ireland wins.\n",
        "UK Denmark Status Quo\n",
        "UK Greece Compromise, Greece wins.\n",
        "Ireland Denmark Compromise, Ireland wins.\n",
        "Ireland Greece Conflict, Ireland wins.\n",
        "Denmark Greece Compromise, Greece wins.\n"
       ]
      }
     ],
     "prompt_number": 34
    },
    {
     "cell_type": "code",
     "collapsed": false,
     "input": [
      "model.make_offers_happen()"
     ],
     "language": "python",
     "metadata": {},
     "outputs": [],
     "prompt_number": 35
    },
    {
     "cell_type": "code",
     "collapsed": false,
     "input": [
      "for actor in Actors:\n",
      "    print actor.offers"
     ],
     "language": "python",
     "metadata": {},
     "outputs": [
      {
       "output_type": "stream",
       "stream": "stdout",
       "text": [
        "[{'EU': 98.99999999999999, 'x': 7.0, 'Sender': 'Ireland'}, {'EU': 98.99999999999997, 'x': 7.0, 'Sender': 'Greece'}]\n",
        "[{'EU': 131.59310613005846, 'x': 7.0, 'Sender': 'Netherlands'}, {'EU': 8.665120202061042, 'x': 7.0, 'Sender': 'France'}, {'EU': 8.665120202061042, 'x': 7.0, 'Sender': 'Italy'}, {'EU': 143.24989648741624, 'x': 7.0, 'Sender': 'Ireland'}, {'EU': 119.93631577270071, 'x': 7.0, 'Sender': 'Greece'}]\n",
        "[{'EU': 160.32039693884894, 'x': 7.0, 'Sender': 'Netherlands'}, {'EU': 52.86087919818239, 'x': 7.0, 'Sender': 'France'}, {'EU': 52.86087919818239, 'x': 7.0, 'Sender': 'Italy'}, {'EU': 2.5873916608968375, 'x': 9.809182513848565, 'Sender': 'UK'}, {'EU': 166.3796022069138, 'x': 7.0, 'Sender': 'Ireland'}, {'EU': 154.26119167078411, 'x': 7.0, 'Sender': 'Greece'}]\n",
        "[{'EU': 131.59310613005846, 'x': 7.0, 'Sender': 'Netherlands'}, {'EU': 8.665120202061042, 'x': 7.0, 'Sender': 'France'}, {'EU': 8.665120202061042, 'x': 7.0, 'Sender': 'Italy'}, {'EU': 143.24989648741624, 'x': 7.0, 'Sender': 'Ireland'}, {'EU': 119.93631577270071, 'x': 7.0, 'Sender': 'Greece'}]\n",
        "[{'EU': 98.99999999999997, 'x': 7.0, 'Sender': 'Netherlands'}, {'EU': 98.99999999999999, 'x': 7.0, 'Sender': 'Ireland'}, {'EU': 98.99999999999997, 'x': 7.0, 'Sender': 'Greece'}]\n",
        "[{'EU': 98.99999999999997, 'x': 7.0, 'Sender': 'Netherlands'}, {'EU': 98.99999999999999, 'x': 7.0, 'Sender': 'Ireland'}, {'EU': 98.99999999999997, 'x': 7.0, 'Sender': 'Greece'}]\n",
        "[{'EU': 154.78465043982146, 'x': 7.0, 'Sender': 'Netherlands'}, {'EU': 0.28751568066195077, 'x': 5.321020992965345, 'Sender': 'Belgium'}, {'EU': 89.12918967607223, 'x': 4.319071944586808, 'Sender': 'Luxembourg'}, {'EU': 0.28751568066195077, 'x': 5.321020992965345, 'Sender': 'Germany'}, {'EU': 46.13922775130271, 'x': 7.0, 'Sender': 'France'}, {'EU': 46.13922775130271, 'x': 7.0, 'Sender': 'Italy'}, {'EU': 166.73508713093503, 'x': 7.0, 'Sender': 'Ireland'}, {'EU': 142.83421374870795, 'x': 7.0, 'Sender': 'Greece'}]\n",
        "[{'EU': 98.99999999999997, 'x': 7.0, 'Sender': 'Netherlands'}, {'EU': 98.99999999999997, 'x': 7.0, 'Sender': 'Greece'}]\n",
        "[{'EU': 125.66944998790217, 'x': 7.0, 'Sender': 'Netherlands'}, {'EU': 1.1286799505994378, 'x': 7.0, 'Sender': 'France'}, {'EU': 1.1286799505994378, 'x': 7.0, 'Sender': 'Italy'}, {'EU': 135.52348265393766, 'x': 7.0, 'Sender': 'Ireland'}, {'EU': 115.81541732186666, 'x': 7.0, 'Sender': 'Greece'}]\n",
        "[{'EU': 98.99999999999997, 'x': 7.0, 'Sender': 'Netherlands'}, {'EU': 98.99999999999999, 'x': 7.0, 'Sender': 'Ireland'}]\n"
       ]
      }
     ],
     "prompt_number": 36
    },
    {
     "cell_type": "code",
     "collapsed": false,
     "input": [
      "for actor in Actors:\n",
      "    actor.choose_offer()"
     ],
     "language": "python",
     "metadata": {},
     "outputs": [
      {
       "output_type": "stream",
       "stream": "stdout",
       "text": [
        "Netherlands changing position!\n",
        "Belgium changing position!\n",
        "Luxembourg changing position!\n",
        "Germany changing position!\n",
        "France changing position!\n",
        "Italy changing position!\n",
        "UK changing position!\n",
        "Denmark changing position!\n",
        "Greece changing position!\n"
       ]
      }
     ],
     "prompt_number": 37
    },
    {
     "cell_type": "markdown",
     "metadata": {},
     "source": [
      "## Round 3"
     ]
    },
    {
     "cell_type": "code",
     "collapsed": false,
     "input": [
      "model.mu = model.vote()"
     ],
     "language": "python",
     "metadata": {},
     "outputs": [
      {
       "output_type": "stream",
       "stream": "stdout",
       "text": [
        "(6.2698891740982114, 6.535691071681729) -1.24483888702\n",
        "(6.2698891740982114, 8.853665288470333) 9.37242579947\n",
        "(7.0, 7.0) 0.0\n",
        "(6.535691071681729, 8.853665288470333) 10.6172646865\n",
        "(6.535691071681729, 4.843936868430266) 17.0491436082\n",
        "(6.2698891740982114, 7.0) -2.64550415411\n",
        "(6.2698891740982114, 4.843936868430266) 15.8043047212\n",
        "(8.853665288470333, 6.535691071681729) -10.6172646865\n",
        "(6.535691071681729, 6.535691071681729) 0.0\n",
        "(4.843936868430266, 6.2698891740982114) -15.8043047212\n",
        "(7.0, 6.535691071681729) 1.40066526709\n",
        "(4.843936868430266, 4.843936868430266) 0.0\n",
        "(6.2698891740982114, 6.2698891740982114) 0.0\n",
        "(6.535691071681729, 6.2698891740982114) 1.24483888702\n",
        "(4.843936868430266, 7.0) -18.4498088753\n",
        "(8.853665288470333, 6.2698891740982114) -9.37242579947\n",
        "(7.0, 8.853665288470333) 12.0179299536\n",
        "(4.843936868430266, 8.853665288470333) -6.43187892168\n",
        "(4.843936868430266, 6.535691071681729) -17.0491436082\n",
        "(7.0, 6.2698891740982114) 2.64550415411\n",
        "(8.853665288470333, 8.853665288470333) 0.0\n",
        "(7.0, 4.843936868430266) 18.4498088753\n",
        "(6.535691071681729, 7.0) -1.40066526709\n",
        "(8.853665288470333, 7.0) -12.0179299536\n",
        "(8.853665288470333, 4.843936868430266) 6.43187892168\n"
       ]
      }
     ],
     "prompt_number": 38
    },
    {
     "cell_type": "code",
     "collapsed": false,
     "input": [
      "model.mu = model.find_mean()"
     ],
     "language": "python",
     "metadata": {},
     "outputs": [],
     "prompt_number": 39
    },
    {
     "cell_type": "code",
     "collapsed": false,
     "input": [
      "print model.mu"
     ],
     "language": "python",
     "metadata": {},
     "outputs": [
      {
       "output_type": "stream",
       "stream": "stdout",
       "text": [
        "7.13381786966\n"
       ]
      }
     ],
     "prompt_number": 40
    },
    {
     "cell_type": "code",
     "collapsed": false,
     "input": [],
     "language": "python",
     "metadata": {},
     "outputs": [],
     "prompt_number": 40
    }
   ],
   "metadata": {}
  }
 ]
}
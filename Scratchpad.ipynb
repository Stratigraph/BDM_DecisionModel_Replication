{
 "metadata": {
  "name": "",
  "signature": "sha256:5c127edacf1e9c394c585df086cf67c5185a1e15e50993f60dbd24617b0c7c61"
 },
 "nbformat": 3,
 "nbformat_minor": 0,
 "worksheets": [
  {
   "cells": [
    {
     "cell_type": "code",
     "collapsed": false,
     "input": [
      "from __future__ import division\n",
      "import numpy as np\n",
      "\n",
      "import csv"
     ],
     "language": "python",
     "metadata": {},
     "outputs": [],
     "prompt_number": 1
    },
    {
     "cell_type": "code",
     "collapsed": false,
     "input": [
      "from GroupDecisionModel import Actor, Model"
     ],
     "language": "python",
     "metadata": {},
     "outputs": [],
     "prompt_number": 2
    },
    {
     "cell_type": "markdown",
     "metadata": {},
     "source": [
      "## Loading sample data"
     ]
    },
    {
     "cell_type": "code",
     "collapsed": false,
     "input": [
      "with open(\"ExampleActors.csv\", 'rU') as f:\n",
      "    reader = csv.DictReader(f, )\n",
      "    actors = [actor for actor in reader]\n",
      "\n",
      "for actor in actors:\n",
      "    for key in actor:\n",
      "        try:\n",
      "            actor[key] = float(actor[key])\n",
      "        except:\n",
      "            continue"
     ],
     "language": "python",
     "metadata": {},
     "outputs": [],
     "prompt_number": 3
    },
    {
     "cell_type": "code",
     "collapsed": false,
     "input": [
      "Actors = []\n",
      "for actor in actors:\n",
      "    new_actor = Actor(actor[\"Actor\"], None, actor[\"Position\"], actor[\"Capability\"], actor[\"Salience\"])\n",
      "    Actors.append(new_actor)"
     ],
     "language": "python",
     "metadata": {},
     "outputs": [],
     "prompt_number": 4
    },
    {
     "cell_type": "code",
     "collapsed": false,
     "input": [
      "model = Model(Actors, 10, 4)"
     ],
     "language": "python",
     "metadata": {},
     "outputs": [],
     "prompt_number": 5
    },
    {
     "cell_type": "markdown",
     "metadata": {},
     "source": [
      "## 3. Calculate Pairwise Voting\n",
      "\n",
      "$$v^{jk} = \\sum^{n}_{i=1}|x_i-x_k| - |x_i-x_j|$$"
     ]
    },
    {
     "cell_type": "code",
     "collapsed": false,
     "input": [
      "model.mu = model.vote()"
     ],
     "language": "python",
     "metadata": {},
     "outputs": [
      {
       "output_type": "stream",
       "stream": "stdout",
       "text": [
        "(4.0, 10.0) -8.8\n",
        "(4.0, 7.0) -9.05\n",
        "(10.0, 4.0) 8.8\n",
        "(10.0, 10.0) 0.0\n",
        "(10.0, 7.0) -0.25\n",
        "(4.0, 4.0) 0.0\n",
        "(7.0, 7.0) 0.0\n",
        "(7.0, 4.0) 9.05\n",
        "(7.0, 10.0) 0.25\n"
       ]
      }
     ],
     "prompt_number": 6
    },
    {
     "cell_type": "code",
     "collapsed": false,
     "input": [
      "model.mu"
     ],
     "language": "python",
     "metadata": {},
     "outputs": [
      {
       "metadata": {},
       "output_type": "pyout",
       "prompt_number": 7,
       "text": [
        "7.0"
       ]
      }
     ],
     "prompt_number": 7
    },
    {
     "cell_type": "markdown",
     "metadata": {},
     "source": [
      "## 4. Calculate basic utilities"
     ]
    },
    {
     "cell_type": "code",
     "collapsed": false,
     "input": [
      "for actor in Actors:\n",
      "    actor.model = model"
     ],
     "language": "python",
     "metadata": {},
     "outputs": [],
     "prompt_number": 8
    },
    {
     "cell_type": "code",
     "collapsed": false,
     "input": [
      "for actor in Actors:\n",
      "    for alter in Actors:\n",
      "        if actor is not alter:\n",
      "            actor.calculate_utilities(alter)"
     ],
     "language": "python",
     "metadata": {},
     "outputs": [],
     "prompt_number": 9
    },
    {
     "cell_type": "code",
     "collapsed": false,
     "input": [
      "a1 = Actors[0]\n",
      "a2 = Actors[1]"
     ],
     "language": "python",
     "metadata": {},
     "outputs": [],
     "prompt_number": 10
    },
    {
     "cell_type": "code",
     "collapsed": false,
     "input": [
      "a1.basic_utilities"
     ],
     "language": "python",
     "metadata": {},
     "outputs": [
      {
       "metadata": {},
       "output_type": "pyout",
       "prompt_number": 11,
       "text": [
        "{'Belgium': {'Ub': 0.5, 'Uf': -1.0, 'Us': 1.0, 'Usq': 0.0, 'Uw': -0.5},\n",
        " 'Denmark': {'Ub': 0.5, 'Uf': -1.0, 'Us': 1.0, 'Usq': 0.0, 'Uw': -0.5},\n",
        " 'France': {'Ub': 0.5, 'Uf': -1.0, 'Us': 1.0, 'Usq': 0.0, 'Uw': -0.5},\n",
        " 'Germany': {'Ub': 0.5, 'Uf': -1.0, 'Us': 1.0, 'Usq': 0.0, 'Uw': -0.5},\n",
        " 'Greece': {'Ub': 0.0, 'Uf': 0.0, 'Us': 0.0, 'Usq': 0.0, 'Uw': 0.0},\n",
        " 'Ireland': {'Ub': 0.0, 'Uf': 0.0, 'Us': 0.0, 'Usq': 0.0, 'Uw': 0.0},\n",
        " 'Italy': {'Ub': 0.5, 'Uf': -1.0, 'Us': 1.0, 'Usq': 0.0, 'Uw': -0.5},\n",
        " 'Luxembourg': {'Ub': 0.5, 'Uf': -1.0, 'Us': 1.0, 'Usq': 0.0, 'Uw': -0.5},\n",
        " 'UK': {'Ub': 0.5, 'Uf': -1.0, 'Us': 1.0, 'Usq': 0.0, 'Uw': -0.5}}"
       ]
      }
     ],
     "prompt_number": 11
    },
    {
     "cell_type": "markdown",
     "metadata": {},
     "source": [
      "## 5. Calculate win probabilities"
     ]
    },
    {
     "cell_type": "code",
     "collapsed": false,
     "input": [
      "for actor in Actors:\n",
      "    for alter in Actors:\n",
      "        if actor is not alter:\n",
      "            actor.calculate_prob(alter)"
     ],
     "language": "python",
     "metadata": {},
     "outputs": [],
     "prompt_number": 12
    },
    {
     "cell_type": "code",
     "collapsed": false,
     "input": [
      "a1.probs"
     ],
     "language": "python",
     "metadata": {},
     "outputs": [
      {
       "metadata": {},
       "output_type": "pyout",
       "prompt_number": 13,
       "text": [
        "{'Belgium': 0.6336779911373707,\n",
        " 'Denmark': 0.6336779911373707,\n",
        " 'France': 0.5036927621861153,\n",
        " 'Germany': 0.6336779911373707,\n",
        " 'Greece': 0,\n",
        " 'Ireland': 0,\n",
        " 'Italy': 0.5036927621861153,\n",
        " 'Luxembourg': 0.6336779911373707,\n",
        " 'UK': 0.5036927621861153}"
       ]
      }
     ],
     "prompt_number": 13
    },
    {
     "cell_type": "markdown",
     "metadata": {},
     "source": [
      "## 7. Calculate Expected Utilities"
     ]
    },
    {
     "cell_type": "code",
     "collapsed": false,
     "input": [
      "model.T = 0"
     ],
     "language": "python",
     "metadata": {},
     "outputs": [],
     "prompt_number": 14
    },
    {
     "cell_type": "code",
     "collapsed": false,
     "input": [
      "for actor in Actors:\n",
      "    for alter in Actors:\n",
      "        if actor is not alter:\n",
      "            actor.calculate_expected_utility(alter)"
     ],
     "language": "python",
     "metadata": {},
     "outputs": [],
     "prompt_number": 15
    },
    {
     "cell_type": "code",
     "collapsed": false,
     "input": [
      "a1.expected_utilities"
     ],
     "language": "python",
     "metadata": {},
     "outputs": [
      {
       "metadata": {},
       "output_type": "pyout",
       "prompt_number": 16,
       "text": [
        "{'Belgium': -57.61152141802069,\n",
        " 'Denmark': -72.26440177252587,\n",
        " 'France': -58.55686853766617,\n",
        " 'Germany': -57.61152141802069,\n",
        " 'Greece': 0.0,\n",
        " 'Ireland': 0.0,\n",
        " 'Italy': -58.55686853766617,\n",
        " 'Luxembourg': -13.652880354505173,\n",
        " 'UK': -88.33530280649926}"
       ]
      }
     ],
     "prompt_number": 16
    },
    {
     "cell_type": "markdown",
     "metadata": {},
     "source": [
      "## 8.9. Calculate R and r"
     ]
    },
    {
     "cell_type": "code",
     "collapsed": false,
     "input": [
      "for actor in Actors:\n",
      "    actor.calculate_r()"
     ],
     "language": "python",
     "metadata": {},
     "outputs": [],
     "prompt_number": 17
    },
    {
     "cell_type": "code",
     "collapsed": false,
     "input": [
      "[actor.r for actor in Actors]"
     ],
     "language": "python",
     "metadata": {},
     "outputs": [
      {
       "metadata": {},
       "output_type": "pyout",
       "prompt_number": 19,
       "text": [
        "[0.7045142764483074,\n",
        " 0.9931673254149582,\n",
        " 0.5481791061489397,\n",
        " 0.9931673254149582,\n",
        " 1.2037523471565288,\n",
        " 1.2037523471565288,\n",
        " 1.9999999999999998,\n",
        " 0.5000000000000001,\n",
        " 1.2043652321160914,\n",
        " 0.9736006103277145]"
       ]
      }
     ],
     "prompt_number": 19
    },
    {
     "cell_type": "markdown",
     "metadata": {},
     "source": [
      "##10. Going back and recalculating new utilities"
     ]
    },
    {
     "cell_type": "code",
     "collapsed": false,
     "input": [
      "for actor in Actors:\n",
      "    for alter in Actors:\n",
      "        if actor is not alter:\n",
      "            actor.calculate_utilities(alter)"
     ],
     "language": "python",
     "metadata": {},
     "outputs": [],
     "prompt_number": 22
    },
    {
     "cell_type": "code",
     "collapsed": false,
     "input": [
      "a1.basic_utilities"
     ],
     "language": "python",
     "metadata": {},
     "outputs": [
      {
       "metadata": {},
       "output_type": "pyout",
       "prompt_number": 23,
       "text": [
        "{'Belgium': {'Ub': -0.004282516562536198,\n",
        "  'Uf': -1.2661706185037662,\n",
        "  'Us': 0.4937393446077507,\n",
        "  'Usq': -0.45459622373395625,\n",
        "  'Uw': -0.8724637021501698},\n",
        " 'Denmark': {'Ub': -0.004282516562536198,\n",
        "  'Uf': -1.2661706185037662,\n",
        "  'Us': 0.4937393446077507,\n",
        "  'Usq': -0.45459622373395625,\n",
        "  'Uw': -0.8724637021501698},\n",
        " 'France': {'Ub': -0.004282516562536198,\n",
        "  'Uf': -1.2661706185037662,\n",
        "  'Us': 0.4937393446077507,\n",
        "  'Usq': -0.45459622373395625,\n",
        "  'Uw': -0.8724637021501698},\n",
        " 'Germany': {'Ub': -0.004282516562536198,\n",
        "  'Uf': -1.2661706185037662,\n",
        "  'Us': 0.4937393446077507,\n",
        "  'Usq': -0.45459622373395625,\n",
        "  'Uw': -0.8724637021501698},\n",
        " 'Greece': {'Ub': -0.45459622373395625,\n",
        "  'Uf': -0.45459622373395625,\n",
        "  'Us': -0.45459622373395625,\n",
        "  'Usq': -0.45459622373395625,\n",
        "  'Uw': -0.45459622373395625},\n",
        " 'Ireland': {'Ub': -0.45459622373395625,\n",
        "  'Uf': -0.45459622373395625,\n",
        "  'Us': -0.45459622373395625,\n",
        "  'Usq': -0.45459622373395625,\n",
        "  'Uw': -0.45459622373395625},\n",
        " 'Italy': {'Ub': -0.004282516562536198,\n",
        "  'Uf': -1.2661706185037662,\n",
        "  'Us': 0.4937393446077507,\n",
        "  'Usq': -0.45459622373395625,\n",
        "  'Uw': -0.8724637021501698},\n",
        " 'Luxembourg': {'Ub': -0.004282516562536198,\n",
        "  'Uf': -1.2661706185037662,\n",
        "  'Us': 0.4937393446077507,\n",
        "  'Usq': -0.45459622373395625,\n",
        "  'Uw': -0.8724637021501698},\n",
        " 'UK': {'Ub': -0.004282516562536198,\n",
        "  'Uf': -1.2661706185037662,\n",
        "  'Us': 0.4937393446077507,\n",
        "  'Usq': -0.45459622373395625,\n",
        "  'Uw': -0.8724637021501698}}"
       ]
      }
     ],
     "prompt_number": 23
    },
    {
     "cell_type": "code",
     "collapsed": false,
     "input": [],
     "language": "python",
     "metadata": {},
     "outputs": []
    }
   ],
   "metadata": {}
  }
 ]
}
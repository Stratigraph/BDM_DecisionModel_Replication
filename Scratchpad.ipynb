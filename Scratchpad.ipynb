{
 "metadata": {
  "name": "",
  "signature": "sha256:d4f43f99586d34c5822b56d712a8426e1a97b4c306a5e5d96fc7c737b3b8c1d0"
 },
 "nbformat": 3,
 "nbformat_minor": 0,
 "worksheets": [
  {
   "cells": [
    {
     "cell_type": "code",
     "collapsed": false,
     "input": [
      "from __future__ import division\n",
      "import numpy as np\n",
      "\n",
      "import csv"
     ],
     "language": "python",
     "metadata": {},
     "outputs": [],
     "prompt_number": 1
    },
    {
     "cell_type": "code",
     "collapsed": false,
     "input": [
      "from GroupDecisionModel import Actor, Model"
     ],
     "language": "python",
     "metadata": {},
     "outputs": [],
     "prompt_number": 2
    },
    {
     "cell_type": "markdown",
     "metadata": {},
     "source": [
      "## Loading sample data"
     ]
    },
    {
     "cell_type": "code",
     "collapsed": false,
     "input": [
      "with open(\"ExampleActors.csv\", 'rU') as f:\n",
      "    reader = csv.DictReader(f, )\n",
      "    actors = [actor for actor in reader]\n",
      "\n",
      "for actor in actors:\n",
      "    for key in actor:\n",
      "        try:\n",
      "            actor[key] = float(actor[key])\n",
      "        except:\n",
      "            continue"
     ],
     "language": "python",
     "metadata": {},
     "outputs": [],
     "prompt_number": 3
    },
    {
     "cell_type": "code",
     "collapsed": false,
     "input": [
      "Actors = []\n",
      "for actor in actors:\n",
      "    new_actor = Actor(actor[\"Actor\"], None, actor[\"Position\"], actor[\"Capability\"], actor[\"Salience\"])\n",
      "    Actors.append(new_actor)"
     ],
     "language": "python",
     "metadata": {},
     "outputs": [],
     "prompt_number": 4
    },
    {
     "cell_type": "code",
     "collapsed": false,
     "input": [
      "model = Model(Actors, 10, 4)"
     ],
     "language": "python",
     "metadata": {},
     "outputs": [],
     "prompt_number": 5
    },
    {
     "cell_type": "markdown",
     "metadata": {},
     "source": [
      "## 3. Calculate Pairwise Voting\n",
      "\n",
      "$$v^{jk} = \\sum^{n}_{i=1}|x_i-x_k| - |x_i-x_j|$$"
     ]
    },
    {
     "cell_type": "code",
     "collapsed": false,
     "input": [
      "model.vote()"
     ],
     "language": "python",
     "metadata": {},
     "outputs": [
      {
       "output_type": "stream",
       "stream": "stdout",
       "text": [
        "(4.0, 10.0) -8.8\n",
        "(4.0, 7.0) -9.05\n",
        "(10.0, 4.0) 8.8\n",
        "(10.0, 10.0) 0.0\n",
        "(10.0, 7.0) -0.25\n",
        "(4.0, 4.0) 0.0\n",
        "(7.0, 7.0) 0.0\n",
        "(7.0, 4.0) 9.05\n",
        "(7.0, 10.0) 0.25\n"
       ]
      },
      {
       "metadata": {},
       "output_type": "pyout",
       "prompt_number": 6,
       "text": [
        "7.0"
       ]
      }
     ],
     "prompt_number": 6
    },
    {
     "cell_type": "code",
     "collapsed": false,
     "input": [
      "model.mu = model.find_mean()"
     ],
     "language": "python",
     "metadata": {},
     "outputs": [],
     "prompt_number": 7
    },
    {
     "cell_type": "code",
     "collapsed": false,
     "input": [
      "print model.mu"
     ],
     "language": "python",
     "metadata": {},
     "outputs": [
      {
       "output_type": "stream",
       "stream": "stdout",
       "text": [
        "7.38995568685\n"
       ]
      }
     ],
     "prompt_number": 8
    },
    {
     "cell_type": "markdown",
     "metadata": {},
     "source": [
      "## 4. Calculate basic utilities"
     ]
    },
    {
     "cell_type": "code",
     "collapsed": false,
     "input": [
      "for actor in Actors:\n",
      "    actor.model = model"
     ],
     "language": "python",
     "metadata": {},
     "outputs": [],
     "prompt_number": 9
    },
    {
     "cell_type": "code",
     "collapsed": false,
     "input": [
      "for actor in Actors:\n",
      "    for alter in Actors:\n",
      "        if actor is not alter:\n",
      "            actor.calculate_utilities(alter)"
     ],
     "language": "python",
     "metadata": {},
     "outputs": [],
     "prompt_number": 10
    },
    {
     "cell_type": "code",
     "collapsed": false,
     "input": [
      "a1 = Actors[0]\n",
      "a2 = Actors[1]"
     ],
     "language": "python",
     "metadata": {},
     "outputs": [],
     "prompt_number": 11
    },
    {
     "cell_type": "code",
     "collapsed": false,
     "input": [
      "a1.basic_utilities"
     ],
     "language": "python",
     "metadata": {},
     "outputs": [
      {
       "metadata": {},
       "output_type": "pyout",
       "prompt_number": 12,
       "text": [
        "{'Belgium': {'Ub': 0.5649926144756279,\n",
        "  'Uf': -1.0,\n",
        "  'Us': 1.0,\n",
        "  'Usq': 0.0,\n",
        "  'Uw': -0.5649926144756279},\n",
        " 'Denmark': {'Ub': 0.5649926144756279,\n",
        "  'Uf': -1.0,\n",
        "  'Us': 1.0,\n",
        "  'Usq': 0.0,\n",
        "  'Uw': -0.5649926144756279},\n",
        " 'France': {'Ub': 0.5649926144756279,\n",
        "  'Uf': -1.0,\n",
        "  'Us': 1.0,\n",
        "  'Usq': 0.0,\n",
        "  'Uw': -0.5649926144756279},\n",
        " 'Germany': {'Ub': 0.5649926144756279,\n",
        "  'Uf': -1.0,\n",
        "  'Us': 1.0,\n",
        "  'Usq': 0.0,\n",
        "  'Uw': -0.5649926144756279},\n",
        " 'Greece': {'Ub': 0.06499261447562765,\n",
        "  'Uf': 0.0,\n",
        "  'Us': 0.0,\n",
        "  'Usq': 0.0,\n",
        "  'Uw': -0.06499261447562787},\n",
        " 'Ireland': {'Ub': 0.06499261447562765,\n",
        "  'Uf': 0.0,\n",
        "  'Us': 0.0,\n",
        "  'Usq': 0.0,\n",
        "  'Uw': -0.06499261447562787},\n",
        " 'Italy': {'Ub': 0.5649926144756279,\n",
        "  'Uf': -1.0,\n",
        "  'Us': 1.0,\n",
        "  'Usq': 0.0,\n",
        "  'Uw': -0.5649926144756279},\n",
        " 'Luxembourg': {'Ub': 0.5649926144756279,\n",
        "  'Uf': -1.0,\n",
        "  'Us': 1.0,\n",
        "  'Usq': 0.0,\n",
        "  'Uw': -0.5649926144756279},\n",
        " 'UK': {'Ub': 0.5649926144756279,\n",
        "  'Uf': -1.0,\n",
        "  'Us': 1.0,\n",
        "  'Usq': 0.0,\n",
        "  'Uw': -0.5649926144756279}}"
       ]
      }
     ],
     "prompt_number": 12
    },
    {
     "cell_type": "markdown",
     "metadata": {},
     "source": [
      "## 5. Calculate win probabilities"
     ]
    },
    {
     "cell_type": "code",
     "collapsed": false,
     "input": [
      "for actor in Actors:\n",
      "    for alter in Actors:\n",
      "        if actor is not alter:\n",
      "            actor.calculate_prob(alter)"
     ],
     "language": "python",
     "metadata": {},
     "outputs": [],
     "prompt_number": 13
    },
    {
     "cell_type": "code",
     "collapsed": false,
     "input": [
      "a1.probs"
     ],
     "language": "python",
     "metadata": {},
     "outputs": [
      {
       "metadata": {},
       "output_type": "pyout",
       "prompt_number": 14,
       "text": [
        "{'Belgium': 0.6336779911373707,\n",
        " 'Denmark': 0.6336779911373707,\n",
        " 'France': 0.5036927621861153,\n",
        " 'Germany': 0.6336779911373707,\n",
        " 'Greece': 0,\n",
        " 'Ireland': 0,\n",
        " 'Italy': 0.5036927621861153,\n",
        " 'Luxembourg': 0.6336779911373707,\n",
        " 'UK': 0.5036927621861153}"
       ]
      }
     ],
     "prompt_number": 14
    },
    {
     "cell_type": "markdown",
     "metadata": {},
     "source": [
      "## 7. Calculate Expected Utilities"
     ]
    },
    {
     "cell_type": "code",
     "collapsed": false,
     "input": [
      "model.T = 0.5"
     ],
     "language": "python",
     "metadata": {},
     "outputs": [],
     "prompt_number": 15
    },
    {
     "cell_type": "code",
     "collapsed": false,
     "input": [
      "for actor in Actors:\n",
      "    for alter in Actors:\n",
      "        if actor is not alter:\n",
      "            actor.calculate_expected_utility(alter)"
     ],
     "language": "python",
     "metadata": {},
     "outputs": [],
     "prompt_number": 16
    },
    {
     "cell_type": "code",
     "collapsed": false,
     "input": [
      "a1.expected_utilities"
     ],
     "language": "python",
     "metadata": {},
     "outputs": [
      {
       "metadata": {},
       "output_type": "pyout",
       "prompt_number": 17,
       "text": [
        "{'Belgium': -28.305760709010347,\n",
        " 'Denmark': -28.305760709010347,\n",
        " 'France': -38.70457902511078,\n",
        " 'Germany': -28.305760709010347,\n",
        " 'Greece': 0.0,\n",
        " 'Ireland': 0.0,\n",
        " 'Italy': -38.70457902511078,\n",
        " 'Luxembourg': -28.305760709010347,\n",
        " 'UK': -38.70457902511078}"
       ]
      }
     ],
     "prompt_number": 17
    },
    {
     "cell_type": "markdown",
     "metadata": {},
     "source": [
      "## 8.9. Calculate R and r"
     ]
    },
    {
     "cell_type": "code",
     "collapsed": false,
     "input": [
      "for actor in Actors:\n",
      "    actor.calculate_r()"
     ],
     "language": "python",
     "metadata": {},
     "outputs": [],
     "prompt_number": 18
    },
    {
     "cell_type": "code",
     "collapsed": false,
     "input": [
      "[actor.r for actor in Actors]"
     ],
     "language": "python",
     "metadata": {},
     "outputs": [
      {
       "metadata": {},
       "output_type": "pyout",
       "prompt_number": 19,
       "text": [
        "[0.8640944250905095,\n",
        " 0.5000000000000001,\n",
        " 0.5000000000000001,\n",
        " 0.5000000000000001,\n",
        " 1.9999999999999998,\n",
        " 1.9999999999999998,\n",
        " 1.9999999999999998,\n",
        " 0.8640944250905095,\n",
        " 0.5000000000000001,\n",
        " 0.8640944250905095]"
       ]
      }
     ],
     "prompt_number": 19
    },
    {
     "cell_type": "markdown",
     "metadata": {},
     "source": [
      "##10. Going back and recalculating new utilities"
     ]
    },
    {
     "cell_type": "code",
     "collapsed": false,
     "input": [
      "for actor in Actors:\n",
      "    for alter in Actors:\n",
      "        if actor is not alter:\n",
      "            actor.calculate_utilities(alter)"
     ],
     "language": "python",
     "metadata": {},
     "outputs": [],
     "prompt_number": 20
    },
    {
     "cell_type": "code",
     "collapsed": false,
     "input": [
      "a1.basic_utilities"
     ],
     "language": "python",
     "metadata": {},
     "outputs": [
      {
       "metadata": {},
       "output_type": "pyout",
       "prompt_number": 21,
       "text": [
        "{'Belgium': {'Ub': 0.3504704729814785,\n",
        "  'Uf': -1.1196159026433206,\n",
        "  'Us': 0.7926774585501379,\n",
        "  'Usq': -0.19756459877734844,\n",
        "  'Uw': -0.7246601756503375},\n",
        " 'Denmark': {'Ub': 0.3504704729814785,\n",
        "  'Uf': -1.1196159026433206,\n",
        "  'Us': 0.7926774585501379,\n",
        "  'Usq': -0.19756459877734844,\n",
        "  'Uw': -0.7246601756503375},\n",
        " 'France': {'Ub': 0.3504704729814785,\n",
        "  'Uf': -1.1196159026433206,\n",
        "  'Us': 0.7926774585501379,\n",
        "  'Usq': -0.19756459877734844,\n",
        "  'Uw': -0.7246601756503375},\n",
        " 'Germany': {'Ub': 0.3504704729814785,\n",
        "  'Uf': -1.1196159026433206,\n",
        "  'Us': 0.7926774585501379,\n",
        "  'Usq': -0.19756459877734844,\n",
        "  'Uw': -0.7246601756503375},\n",
        " 'Greece': {'Ub': -0.1357192837428327,\n",
        "  'Uf': -0.19756459877734844,\n",
        "  'Us': -0.19756459877734844,\n",
        "  'Usq': -0.19756459877734844,\n",
        "  'Uw': -0.25913732946872603},\n",
        " 'Ireland': {'Ub': -0.1357192837428327,\n",
        "  'Uf': -0.19756459877734844,\n",
        "  'Us': -0.19756459877734844,\n",
        "  'Usq': -0.19756459877734844,\n",
        "  'Uw': -0.25913732946872603},\n",
        " 'Italy': {'Ub': 0.3504704729814785,\n",
        "  'Uf': -1.1196159026433206,\n",
        "  'Us': 0.7926774585501379,\n",
        "  'Usq': -0.19756459877734844,\n",
        "  'Uw': -0.7246601756503375},\n",
        " 'Luxembourg': {'Ub': 0.3504704729814785,\n",
        "  'Uf': -1.1196159026433206,\n",
        "  'Us': 0.7926774585501379,\n",
        "  'Usq': -0.19756459877734844,\n",
        "  'Uw': -0.7246601756503375},\n",
        " 'UK': {'Ub': 0.3504704729814785,\n",
        "  'Uf': -1.1196159026433206,\n",
        "  'Us': 0.7926774585501379,\n",
        "  'Usq': -0.19756459877734844,\n",
        "  'Uw': -0.7246601756503375}}"
       ]
      }
     ],
     "prompt_number": 21
    },
    {
     "cell_type": "markdown",
     "metadata": {},
     "source": [
      "### Calculating Expected Utilities again"
     ]
    },
    {
     "cell_type": "code",
     "collapsed": false,
     "input": [
      "for actor in Actors:\n",
      "    for alter in Actors:\n",
      "        if actor is not alter:\n",
      "            actor.calculate_expected_utility(alter)"
     ],
     "language": "python",
     "metadata": {},
     "outputs": [],
     "prompt_number": 22
    },
    {
     "cell_type": "code",
     "collapsed": false,
     "input": [
      "a2.expected_utilities"
     ],
     "language": "python",
     "metadata": {},
     "outputs": [
      {
       "metadata": {},
       "output_type": "pyout",
       "prompt_number": 23,
       "text": [
        "{'Denmark': 5.329070518200751e-15,\n",
        " 'France': -181.28116191634967,\n",
        " 'Germany': 5.329070518200751e-15,\n",
        " 'Greece': -73.3930904993716,\n",
        " 'Ireland': -73.3930904993716,\n",
        " 'Italy': -181.28116191634967,\n",
        " 'Luxembourg': 5.329070518200751e-15,\n",
        " 'Netherlands': -73.3930904993716,\n",
        " 'UK': -181.28116191634967}"
       ]
      }
     ],
     "prompt_number": 23
    },
    {
     "cell_type": "code",
     "collapsed": false,
     "input": [
      "model.determine_offers()"
     ],
     "language": "python",
     "metadata": {},
     "outputs": [
      {
       "output_type": "stream",
       "stream": "stdout",
       "text": [
        "Netherlands Belgium Status Quo\n",
        "Netherlands Luxembourg Status Quo\n",
        "Netherlands Germany Status Quo\n",
        "Netherlands France Status Quo\n",
        "Netherlands Italy Status Quo\n",
        "Netherlands UK Status Quo\n",
        "Netherlands Ireland Status Quo\n",
        "Netherlands Denmark Status Quo\n",
        "Netherlands Greece Status Quo\n",
        "Belgium Luxembourg Compromise, Belgium wins.\n",
        "Belgium Germany Conflict, Germany wins.\n",
        "Belgium France Status Quo\n",
        "Belgium Italy Status Quo\n",
        "Belgium UK Status Quo\n",
        "Belgium Ireland Status Quo\n",
        "Belgium Denmark Compel, Belgiumwins\n",
        "Belgium Greece Status Quo\n",
        "Luxembourg Germany Compromise, Germany wins.\n",
        "Luxembourg France Status Quo\n",
        "Luxembourg Italy Status Quo\n",
        "Luxembourg UK Status Quo\n",
        "Luxembourg Ireland Status Quo\n",
        "Luxembourg Denmark Status Quo\n",
        "Luxembourg Greece Status Quo\n",
        "Germany France Status Quo\n",
        "Germany Italy Status Quo\n",
        "Germany UK Status Quo\n",
        "Germany Ireland Status Quo\n",
        "Germany Denmark Compel, Germanywins\n",
        "Germany Greece Status Quo\n",
        "France Italy Conflict, Italy wins.\n",
        "France UK Conflict, UK wins.\n",
        "France Ireland Status Quo\n",
        "France Denmark Status Quo\n",
        "France Greece Status Quo\n",
        "Italy UK Conflict, UK wins.\n",
        "Italy Ireland Status Quo\n",
        "Italy Denmark Status Quo\n",
        "Italy Greece Status Quo\n",
        "UK Ireland Status Quo\n",
        "UK Denmark Status Quo\n",
        "UK Greece Status Quo\n",
        "Ireland Denmark Status Quo\n",
        "Ireland Greece Status Quo\n",
        "Denmark Greece Status Quo\n"
       ]
      }
     ],
     "prompt_number": 24
    },
    {
     "cell_type": "code",
     "collapsed": false,
     "input": [
      "model.make_offers_happen()"
     ],
     "language": "python",
     "metadata": {},
     "outputs": [],
     "prompt_number": 25
    },
    {
     "cell_type": "code",
     "collapsed": false,
     "input": [
      "for actor in Actors:\n",
      "    print actor.offers"
     ],
     "language": "python",
     "metadata": {},
     "outputs": [
      {
       "output_type": "stream",
       "stream": "stdout",
       "text": [
        "[]\n",
        "[{'EU': 5.329070518200751e-15, 'x': 4.0, 'Sender': 'Germany'}]\n",
        "[{'EU': 5.329070518200751e-15, 'x': 4.0, 'Sender': 'Belgium'}, {'EU': 5.329070518200751e-15, 'x': 4.0, 'Sender': 'Germany'}]\n",
        "[{'EU': 5.329070518200751e-15, 'x': 4.0, 'Sender': 'Belgium'}]\n",
        "[{'EU': 2.220446049250313e-16, 'x': 10.0, 'Sender': 'Italy'}, {'EU': 2.220446049250313e-16, 'x': 10.0, 'Sender': 'UK'}]\n",
        "[{'EU': 2.220446049250313e-16, 'x': 10.0, 'Sender': 'France'}, {'EU': 2.220446049250313e-16, 'x': 10.0, 'Sender': 'UK'}]\n",
        "[{'EU': 2.220446049250313e-16, 'x': 10.0, 'Sender': 'France'}, {'EU': 2.220446049250313e-16, 'x': 10.0, 'Sender': 'Italy'}]\n",
        "[]\n",
        "[{'EU': 5.329070518200751e-15, 'x': 4.0, 'Sender': 'Belgium'}, {'EU': 5.329070518200751e-15, 'x': 4.0, 'Sender': 'Germany'}]\n",
        "[]\n"
       ]
      }
     ],
     "prompt_number": 26
    },
    {
     "cell_type": "code",
     "collapsed": false,
     "input": [
      "for actor in Actors:\n",
      "    actor.choose_offer()"
     ],
     "language": "python",
     "metadata": {},
     "outputs": [
      {
       "output_type": "stream",
       "stream": "stdout",
       "text": [
        "Denmark changing position!\n"
       ]
      }
     ],
     "prompt_number": 27
    },
    {
     "cell_type": "markdown",
     "metadata": {},
     "source": [
      "## Round 2"
     ]
    },
    {
     "cell_type": "markdown",
     "metadata": {},
     "source": [
      "### Update median voter"
     ]
    },
    {
     "cell_type": "code",
     "collapsed": false,
     "input": [
      "model.vote()"
     ],
     "language": "python",
     "metadata": {},
     "outputs": [
      {
       "output_type": "stream",
       "stream": "stdout",
       "text": [
        "(4.0, 10.0) -8.8\n",
        "(4.0, 7.0) -9.05\n",
        "(10.0, 4.0) 8.8\n",
        "(10.0, 10.0) 0.0\n",
        "(10.0, 7.0) -0.25\n",
        "(4.0, 4.0) 0.0\n",
        "(7.0, 7.0) 0.0\n",
        "(7.0, 4.0) 9.05\n",
        "(7.0, 10.0) 0.25\n"
       ]
      },
      {
       "metadata": {},
       "output_type": "pyout",
       "prompt_number": 28,
       "text": [
        "7.0"
       ]
      }
     ],
     "prompt_number": 28
    },
    {
     "cell_type": "code",
     "collapsed": false,
     "input": [
      "model.mu = model.find_mean()"
     ],
     "language": "python",
     "metadata": {},
     "outputs": [],
     "prompt_number": 29
    },
    {
     "cell_type": "code",
     "collapsed": false,
     "input": [
      "print model.mu"
     ],
     "language": "python",
     "metadata": {},
     "outputs": [
      {
       "output_type": "stream",
       "stream": "stdout",
       "text": [
        "7.38995568685\n"
       ]
      }
     ],
     "prompt_number": 30
    },
    {
     "cell_type": "markdown",
     "metadata": {},
     "source": [
      "### Calculate basic utilities"
     ]
    },
    {
     "cell_type": "code",
     "collapsed": false,
     "input": [
      "for actor in Actors:\n",
      "    for alter in Actors:\n",
      "        if actor is not alter:\n",
      "            actor.calculate_utilities(alter)"
     ],
     "language": "python",
     "metadata": {},
     "outputs": [],
     "prompt_number": 31
    },
    {
     "cell_type": "markdown",
     "metadata": {},
     "source": [
      "### Win probabilities"
     ]
    },
    {
     "cell_type": "code",
     "collapsed": false,
     "input": [
      "for actor in Actors:\n",
      "    for alter in Actors:\n",
      "        if actor is not alter:\n",
      "            actor.calculate_prob(alter)"
     ],
     "language": "python",
     "metadata": {},
     "outputs": [],
     "prompt_number": 32
    },
    {
     "cell_type": "markdown",
     "metadata": {},
     "source": [
      "### Expected Utilities"
     ]
    },
    {
     "cell_type": "code",
     "collapsed": false,
     "input": [
      "for actor in Actors:\n",
      "    for alter in Actors:\n",
      "        if actor is not alter:\n",
      "            actor.calculate_expected_utility(alter)"
     ],
     "language": "python",
     "metadata": {},
     "outputs": [],
     "prompt_number": 33
    },
    {
     "cell_type": "markdown",
     "metadata": {},
     "source": [
      "### Make offers"
     ]
    },
    {
     "cell_type": "code",
     "collapsed": false,
     "input": [
      "model.determine_offers()"
     ],
     "language": "python",
     "metadata": {},
     "outputs": [
      {
       "output_type": "stream",
       "stream": "stdout",
       "text": [
        "Netherlands Belgium Status Quo\n",
        "Netherlands Luxembourg Status Quo\n",
        "Netherlands Germany Status Quo\n",
        "Netherlands France Status Quo\n",
        "Netherlands Italy Status Quo\n",
        "Netherlands UK Status Quo\n",
        "Netherlands Ireland Status Quo\n",
        "Netherlands Denmark Status Quo\n",
        "Netherlands Greece Status Quo\n",
        "Belgium Luxembourg Compromise, Belgium wins.\n",
        "Belgium Germany Conflict, Germany wins.\n",
        "Belgium France Status Quo\n",
        "Belgium Italy Status Quo\n",
        "Belgium UK Status Quo\n",
        "Belgium Ireland Status Quo\n",
        "Belgium Denmark Compel, Belgiumwins\n",
        "Belgium Greece Status Quo\n",
        "Luxembourg Germany Compromise, Germany wins.\n",
        "Luxembourg France Status Quo\n",
        "Luxembourg Italy Status Quo\n",
        "Luxembourg UK Status Quo\n",
        "Luxembourg Ireland Status Quo\n",
        "Luxembourg Denmark Status Quo\n",
        "Luxembourg Greece Status Quo\n",
        "Germany France Status Quo\n",
        "Germany Italy Status Quo\n",
        "Germany UK Status Quo\n",
        "Germany Ireland Status Quo\n",
        "Germany Denmark Compel, Germanywins\n",
        "Germany Greece Status Quo\n",
        "France Italy Conflict, Italy wins.\n",
        "France UK Conflict, UK wins.\n",
        "France Ireland Status Quo\n",
        "France Denmark Status Quo\n",
        "France Greece Status Quo\n",
        "Italy UK Conflict, UK wins.\n",
        "Italy Ireland Status Quo\n",
        "Italy Denmark Status Quo\n",
        "Italy Greece Status Quo\n",
        "UK Ireland Status Quo\n",
        "UK Denmark Status Quo\n",
        "UK Greece Status Quo\n",
        "Ireland Denmark Status Quo\n",
        "Ireland Greece Status Quo\n",
        "Denmark Greece Status Quo\n"
       ]
      }
     ],
     "prompt_number": 34
    },
    {
     "cell_type": "code",
     "collapsed": false,
     "input": [
      "model.make_offers_happen()"
     ],
     "language": "python",
     "metadata": {},
     "outputs": [],
     "prompt_number": 35
    },
    {
     "cell_type": "code",
     "collapsed": false,
     "input": [
      "for actor in Actors:\n",
      "    print actor.offers"
     ],
     "language": "python",
     "metadata": {},
     "outputs": [
      {
       "output_type": "stream",
       "stream": "stdout",
       "text": [
        "[]\n",
        "[{'EU': 5.329070518200751e-15, 'x': 4.0, 'Sender': 'Germany'}]\n",
        "[{'EU': 5.329070518200751e-15, 'x': 4.0, 'Sender': 'Belgium'}, {'EU': 5.329070518200751e-15, 'x': 4.0, 'Sender': 'Germany'}]\n",
        "[{'EU': 5.329070518200751e-15, 'x': 4.0, 'Sender': 'Belgium'}]\n",
        "[{'EU': 2.220446049250313e-16, 'x': 10.0, 'Sender': 'Italy'}, {'EU': 2.220446049250313e-16, 'x': 10.0, 'Sender': 'UK'}]\n",
        "[{'EU': 2.220446049250313e-16, 'x': 10.0, 'Sender': 'France'}, {'EU': 2.220446049250313e-16, 'x': 10.0, 'Sender': 'UK'}]\n",
        "[{'EU': 2.220446049250313e-16, 'x': 10.0, 'Sender': 'France'}, {'EU': 2.220446049250313e-16, 'x': 10.0, 'Sender': 'Italy'}]\n",
        "[]\n",
        "[{'EU': 5.329070518200751e-15, 'x': 4.0, 'Sender': 'Belgium'}, {'EU': 5.329070518200751e-15, 'x': 4.0, 'Sender': 'Germany'}]\n",
        "[]\n"
       ]
      }
     ],
     "prompt_number": 36
    },
    {
     "cell_type": "code",
     "collapsed": false,
     "input": [
      "Actors[-1].x"
     ],
     "language": "python",
     "metadata": {},
     "outputs": [
      {
       "metadata": {},
       "output_type": "pyout",
       "prompt_number": 37,
       "text": [
        "7.0"
       ]
      }
     ],
     "prompt_number": 37
    },
    {
     "cell_type": "code",
     "collapsed": false,
     "input": [
      "for actor in Actors:\n",
      "    actor.choose_offer()"
     ],
     "language": "python",
     "metadata": {},
     "outputs": [
      {
       "output_type": "stream",
       "stream": "stdout",
       "text": [
        "Denmark changing position!\n"
       ]
      }
     ],
     "prompt_number": 38
    },
    {
     "cell_type": "markdown",
     "metadata": {},
     "source": [
      "## Round 3"
     ]
    },
    {
     "cell_type": "code",
     "collapsed": false,
     "input": [
      "model.mu = model.vote()"
     ],
     "language": "python",
     "metadata": {},
     "outputs": [
      {
       "output_type": "stream",
       "stream": "stdout",
       "text": [
        "(4.0, 10.0) -8.8\n",
        "(4.0, 7.0) -9.05\n",
        "(10.0, 4.0) 8.8\n",
        "(10.0, 10.0) 0.0\n",
        "(10.0, 7.0) -0.25\n",
        "(4.0, 4.0) 0.0\n",
        "(7.0, 7.0) 0.0\n",
        "(7.0, 4.0) 9.05\n",
        "(7.0, 10.0) 0.25\n"
       ]
      }
     ],
     "prompt_number": 39
    },
    {
     "cell_type": "code",
     "collapsed": false,
     "input": [
      "model.mu = model.find_mean()"
     ],
     "language": "python",
     "metadata": {},
     "outputs": [],
     "prompt_number": 40
    },
    {
     "cell_type": "code",
     "collapsed": false,
     "input": [
      "print model.mu"
     ],
     "language": "python",
     "metadata": {},
     "outputs": [
      {
       "output_type": "stream",
       "stream": "stdout",
       "text": [
        "7.38995568685\n"
       ]
      }
     ],
     "prompt_number": 41
    },
    {
     "cell_type": "code",
     "collapsed": false,
     "input": [],
     "language": "python",
     "metadata": {},
     "outputs": [],
     "prompt_number": 41
    }
   ],
   "metadata": {}
  }
 ]
}
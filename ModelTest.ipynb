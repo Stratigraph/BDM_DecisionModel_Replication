{
 "metadata": {
  "name": "",
  "signature": "sha256:6e06b443aec663b16113bb4e5ed4f1216b8cca42a03702a812414e7c22973505"
 },
 "nbformat": 3,
 "nbformat_minor": 0,
 "worksheets": [
  {
   "cells": [
    {
     "cell_type": "code",
     "collapsed": false,
     "input": [
      "from __future__ import division\n",
      "import numpy as np\n",
      "\n",
      "import csv\n",
      "\n",
      "import matplotlib.pyplot as plt\n",
      "%matplotlib inline\n",
      "\n",
      "from GroupDecisionModel import Actor, Model"
     ],
     "language": "python",
     "metadata": {},
     "outputs": [],
     "prompt_number": 1
    },
    {
     "cell_type": "code",
     "collapsed": false,
     "input": [
      "with open(\"ExampleActors.csv\", 'rU') as f:\n",
      "    reader = csv.DictReader(f, )\n",
      "    actors = [actor for actor in reader]\n",
      "\n",
      "for actor in actors:\n",
      "    for key in actor:\n",
      "        try:\n",
      "            actor[key] = float(actor[key])\n",
      "        except:\n",
      "            continue\n",
      "\n",
      "Actors = []\n",
      "for actor in actors:\n",
      "    new_actor = Actor(actor[\"Actor\"] , actor[\"Position\"], \n",
      "                      actor[\"Capability\"], actor[\"Salience\"]/100.0)\n",
      "    Actors.append(new_actor)\n",
      "\n",
      "model = Model(Actors)"
     ],
     "language": "python",
     "metadata": {},
     "outputs": [],
     "prompt_number": 4
    },
    {
     "cell_type": "markdown",
     "metadata": {},
     "source": [
      "## Full Run"
     ]
    },
    {
     "cell_type": "code",
     "collapsed": false,
     "input": [
      "for i in range(1,11):\n",
      "    print \"ROUND \" + str(i)\n",
      "    print \"\\tMedian: \" + str(model.median_position())\n",
      "    print \"\\tMean: \" + str(model.mean_position())\n",
      "    model.update_risk_tolerance()\n",
      "    model.send_all_offers()\n",
      "\n",
      "    model.evaluate_offers()\n",
      "        \n",
      "    print \"\"\n",
      "    for actor in model.actors:\n",
      "        actor.r = 1\n",
      "        actor.offers = []\n",
      "    \n",
      "        \n",
      "    "
     ],
     "language": "python",
     "metadata": {},
     "outputs": [
      {
       "output_type": "stream",
       "stream": "stdout",
       "text": [
        "ROUND 1\n",
        "\tMedian: 7.0\n",
        "\tMean: 7.38995568685\n",
        "Belgium compromises with France"
       ]
      },
      {
       "output_type": "stream",
       "stream": "stdout",
       "text": [
        "\n",
        "\tNew position: 8.41617750539\n",
        "Luxembourg loses challenge to Belgium\n",
        "\tNew position: 7.0\n",
        "Ireland loses challenge to Luxembourg\n",
        "\tNew position: 4.0\n",
        "\n",
        "ROUND 2\n",
        "\tMedian: 8.41617750539\n",
        "\tMean: 7.46132596776\n",
        "Belgium compromises with France"
       ]
      },
      {
       "output_type": "stream",
       "stream": "stdout",
       "text": [
        "\n",
        "\tNew position: 9.61107284336\n",
        "Luxembourg loses challenge to Belgium\n",
        "\tNew position: 8.41617750539\n",
        "Ireland loses challenge to Luxembourg\n",
        "\tNew position: 7.0\n",
        "\n",
        "ROUND 3\n",
        "\tMedian: 9.61107284336\n",
        "\tMean: 7.55251314035\n",
        "Belgium compromises with France"
       ]
      },
      {
       "output_type": "stream",
       "stream": "stdout",
       "text": [
        "\n",
        "\tNew position: 9.96201805085\n",
        "Luxembourg loses challenge to Belgium\n",
        "\tNew position: 9.61107284336\n",
        "Ireland loses challenge to Luxembourg\n",
        "\tNew position: 8.41617750539\n",
        "\n",
        "ROUND 4\n",
        "\tMedian: 9.96201805085\n",
        "\tMean: 7.59015052026\n",
        "Belgium compromises with Netherlands"
       ]
      },
      {
       "output_type": "stream",
       "stream": "stdout",
       "text": [
        "\n",
        "\tNew position: 4.80153552807\n",
        "Luxembourg loses challenge to Belgium\n",
        "\tNew position: 9.96201805085\n",
        "Ireland loses challenge to Luxembourg\n",
        "\tNew position: 9.61107284336\n",
        "\n",
        "ROUND 5\n",
        "\tMedian: 9.96201805085\n",
        "\tMean: 7.35816338171\n",
        "Belgium compromises with France"
       ]
      },
      {
       "output_type": "stream",
       "stream": "stdout",
       "text": [
        "\n",
        "\tNew position: 5.52534789414\n",
        "Luxembourg loses challenge to Belgium\n",
        "\tNew position: 4.80153552807\n",
        "Ireland loses challenge to Luxembourg\n",
        "\tNew position: 9.96201805085\n",
        "\n",
        "ROUND 6\n",
        "\tMedian: 9.96201805085\n",
        "\tMean: 7.34923254953\n",
        "Belgium compromises with France"
       ]
      },
      {
       "output_type": "stream",
       "stream": "stdout",
       "text": [
        "\n",
        "\tNew position: 7.47326073201\n",
        "Luxembourg loses challenge to Belgium\n",
        "\tNew position: 5.52534789414\n",
        "Ireland loses challenge to Belgium\n",
        "\tNew position: 5.52534789414\n",
        "\n",
        "ROUND 7\n",
        "\tMedian: 7.47326073201\n",
        "\tMean: 7.41495298414\n",
        "Belgium compromises with France"
       ]
      },
      {
       "output_type": "stream",
       "stream": "stdout",
       "text": [
        "\n",
        "\tNew position: 8.8256365516\n",
        "Luxembourg loses challenge to Belgium\n",
        "\tNew position: 7.47326073201\n",
        "Ireland loses challenge to Belgium\n",
        "\tNew position: 7.47326073201\n",
        "\n",
        "ROUND 8\n",
        "\tMedian: 8.8256365516\n",
        "\tMean: 7.51052620045\n",
        "Belgium compromises with France"
       ]
      },
      {
       "output_type": "stream",
       "stream": "stdout",
       "text": [
        "\n",
        "\tNew position: 9.67167968022\n",
        "Luxembourg loses challenge to Belgium\n",
        "\tNew position: 8.8256365516\n",
        "Ireland loses challenge to Belgium\n",
        "\tNew position: 8.8256365516\n",
        "\n",
        "ROUND 9\n",
        "\tMedian: 9.67167968022\n",
        "\tMean: 7.57249003225\n",
        "Belgium compromises with Netherlands"
       ]
      },
      {
       "output_type": "stream",
       "stream": "stdout",
       "text": [
        "\n",
        "\tNew position: 4.14627667888\n",
        "Luxembourg loses challenge to Belgium\n",
        "\tNew position: 9.67167968022\n",
        "Ireland loses challenge to Belgium\n",
        "\tNew position: 9.67167968022\n",
        "\n",
        "ROUND 10\n",
        "\tMedian: 9.67167968022\n",
        "\tMean: 7.32506548036\n",
        "Belgium compromises with France"
       ]
      },
      {
       "output_type": "stream",
       "stream": "stdout",
       "text": [
        "\n",
        "\tNew position: 4.2949655071\n",
        "Luxembourg loses challenge to Belgium\n",
        "\tNew position: 4.14627667888\n",
        "Ireland loses challenge to Belgium\n",
        "\tNew position: 4.14627667888\n",
        "\n"
       ]
      }
     ],
     "prompt_number": 5
    },
    {
     "cell_type": "code",
     "collapsed": false,
     "input": [
      "model.median_position()"
     ],
     "language": "python",
     "metadata": {},
     "outputs": [
      {
       "metadata": {},
       "output_type": "pyout",
       "prompt_number": 6,
       "text": [
        "7.0"
       ]
      }
     ],
     "prompt_number": 6
    },
    {
     "cell_type": "code",
     "collapsed": false,
     "input": [
      "model.mean_position()"
     ],
     "language": "python",
     "metadata": {},
     "outputs": [
      {
       "metadata": {},
       "output_type": "pyout",
       "prompt_number": 7,
       "text": [
        "7.2423160113661815"
       ]
      }
     ],
     "prompt_number": 7
    },
    {
     "cell_type": "code",
     "collapsed": false,
     "input": [],
     "language": "python",
     "metadata": {},
     "outputs": []
    }
   ],
   "metadata": {}
  }
 ]
}